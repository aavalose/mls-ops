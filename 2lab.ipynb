{
 "cells": [
  {
   "cell_type": "markdown",
   "metadata": {},
   "source": [
    "# Lab 2 - Arturo Avalos\n",
    "\n",
    "Getting the data:"
   ]
  },
  {
   "cell_type": "code",
   "execution_count": 1,
   "metadata": {},
   "outputs": [],
   "source": [
    "from xgboost import XGBClassifier\n",
    "from sklearn.neighbors import KNeighborsClassifier\n",
    "from sklearn.tree import DecisionTreeClassifier\n",
    "from sklearn.ensemble import RandomForestClassifier\n",
    "from sklearn.metrics import accuracy_score\n",
    "from sklearn.model_selection import cross_val_score\n",
    "import mlflow\n",
    "import pandas as pd\n",
    "from sklearn.tree import DecisionTreeClassifier\n",
    "from sklearn.datasets import load_wine\n",
    "from sklearn.metrics import accuracy_score"
   ]
  },
  {
   "cell_type": "code",
   "execution_count": 2,
   "metadata": {},
   "outputs": [
    {
     "name": "stdout",
     "output_type": "stream",
     "text": [
      "<class 'pandas.core.frame.DataFrame'>\n",
      "RangeIndex: 150 entries, 0 to 149\n",
      "Data columns (total 5 columns):\n",
      " #   Column             Non-Null Count  Dtype  \n",
      "---  ------             --------------  -----  \n",
      " 0   sepal length (cm)  150 non-null    float64\n",
      " 1   sepal width (cm)   150 non-null    float64\n",
      " 2   petal length (cm)  150 non-null    float64\n",
      " 3   petal width (cm)   150 non-null    float64\n",
      " 4   target             150 non-null    int64  \n",
      "dtypes: float64(4), int64(1)\n",
      "memory usage: 6.0 KB\n"
     ]
    }
   ],
   "source": [
    "from sklearn import datasets\n",
    "data = datasets.load_iris(as_frame=True)\n",
    "data = data.frame\n",
    "data.info()"
   ]
  },
  {
   "cell_type": "code",
   "execution_count": 3,
   "metadata": {},
   "outputs": [
    {
     "data": {
      "text/html": [
       "<div>\n",
       "<style scoped>\n",
       "    .dataframe tbody tr th:only-of-type {\n",
       "        vertical-align: middle;\n",
       "    }\n",
       "\n",
       "    .dataframe tbody tr th {\n",
       "        vertical-align: top;\n",
       "    }\n",
       "\n",
       "    .dataframe thead th {\n",
       "        text-align: right;\n",
       "    }\n",
       "</style>\n",
       "<table border=\"1\" class=\"dataframe\">\n",
       "  <thead>\n",
       "    <tr style=\"text-align: right;\">\n",
       "      <th></th>\n",
       "      <th>sepal length (cm)</th>\n",
       "      <th>sepal width (cm)</th>\n",
       "      <th>petal length (cm)</th>\n",
       "      <th>petal width (cm)</th>\n",
       "      <th>target</th>\n",
       "    </tr>\n",
       "  </thead>\n",
       "  <tbody>\n",
       "    <tr>\n",
       "      <th>0</th>\n",
       "      <td>5.1</td>\n",
       "      <td>3.5</td>\n",
       "      <td>1.4</td>\n",
       "      <td>0.2</td>\n",
       "      <td>0</td>\n",
       "    </tr>\n",
       "    <tr>\n",
       "      <th>1</th>\n",
       "      <td>4.9</td>\n",
       "      <td>3.0</td>\n",
       "      <td>1.4</td>\n",
       "      <td>0.2</td>\n",
       "      <td>0</td>\n",
       "    </tr>\n",
       "    <tr>\n",
       "      <th>2</th>\n",
       "      <td>4.7</td>\n",
       "      <td>3.2</td>\n",
       "      <td>1.3</td>\n",
       "      <td>0.2</td>\n",
       "      <td>0</td>\n",
       "    </tr>\n",
       "    <tr>\n",
       "      <th>3</th>\n",
       "      <td>4.6</td>\n",
       "      <td>3.1</td>\n",
       "      <td>1.5</td>\n",
       "      <td>0.2</td>\n",
       "      <td>0</td>\n",
       "    </tr>\n",
       "    <tr>\n",
       "      <th>4</th>\n",
       "      <td>5.0</td>\n",
       "      <td>3.6</td>\n",
       "      <td>1.4</td>\n",
       "      <td>0.2</td>\n",
       "      <td>0</td>\n",
       "    </tr>\n",
       "  </tbody>\n",
       "</table>\n",
       "</div>"
      ],
      "text/plain": [
       "   sepal length (cm)  sepal width (cm)  petal length (cm)  petal width (cm)  \\\n",
       "0                5.1               3.5                1.4               0.2   \n",
       "1                4.9               3.0                1.4               0.2   \n",
       "2                4.7               3.2                1.3               0.2   \n",
       "3                4.6               3.1                1.5               0.2   \n",
       "4                5.0               3.6                1.4               0.2   \n",
       "\n",
       "   target  \n",
       "0       0  \n",
       "1       0  \n",
       "2       0  \n",
       "3       0  \n",
       "4       0  "
      ]
     },
     "execution_count": 3,
     "metadata": {},
     "output_type": "execute_result"
    }
   ],
   "source": [
    "data.head()"
   ]
  },
  {
   "cell_type": "code",
   "execution_count": 4,
   "metadata": {},
   "outputs": [
    {
     "data": {
      "image/png": "[encoded data removed]",
      "text/plain": [
       "<Figure size 300x400 with 1 Axes>"
      ]
     },
     "metadata": {},
     "output_type": "display_data"
    }
   ],
   "source": [
    "import matplotlib.pyplot as plt\n",
    "\n",
    "plt.figure(figsize=(3,4))\n",
    "\n",
    "plt.hist(data['target'])\n",
    "plt.title('Target Histogram')\n",
    "plt.xlabel('Target')\n",
    "plt.ylabel('Frequency')\n",
    "plt.show()\n"
   ]
  },
  {
   "cell_type": "code",
   "execution_count": 5,
   "metadata": {},
   "outputs": [
    {
     "data": {
      "image/png": "[encoded data removed]",
      "text/plain": [
       "<Figure size 640x480 with 1 Axes>"
      ]
     },
     "metadata": {},
     "output_type": "display_data"
    }
   ],
   "source": [
    "plt.scatter(data['sepal length (cm)'], data['sepal width (cm)'], c=data['target'])\n",
    "plt.title('Scatter Plot of Sepal Length vs Sepal Width')\n",
    "plt.xlabel('Sepal Length (cm)')\n",
    "plt.ylabel('Sepal Width (cm)')\n",
    "plt.show()"
   ]
  },
  {
   "cell_type": "code",
   "execution_count": 6,
   "metadata": {},
   "outputs": [
    {
     "data": {
      "image/png": "[encoded data removed]",
      "text/plain": [
       "<Figure size 640x480 with 1 Axes>"
      ]
     },
     "metadata": {},
     "output_type": "display_data"
    }
   ],
   "source": [
    "plt.scatter(data['petal length (cm)'], data['petal width (cm)'], c=data['target'])\n",
    "plt.title('Scatter Plot of Petal Length vs Petal Width')\n",
    "plt.xlabel('Petal Length (cm)')\n",
    "plt.ylabel('Petal Width (cm)')\n",
    "plt.show()\n"
   ]
  },
  {
   "cell_type": "code",
   "execution_count": 7,
   "metadata": {},
   "outputs": [],
   "source": [
    "y = data['target']\n",
    "X = data.drop('target', axis=1)"
   ]
  },
  {
   "cell_type": "code",
   "execution_count": 8,
   "metadata": {},
   "outputs": [],
   "source": [
    "from sklearn.model_selection import cross_val_score, train_test_split\n",
    "\n",
    "X_train, X_test, y_train, y_test = train_test_split(X, y, test_size=0.2, shuffle=True)"
   ]
  },
  {
   "cell_type": "markdown",
   "metadata": {},
   "source": [
    "### Training"
   ]
  },
  {
   "cell_type": "code",
   "execution_count": 9,
   "metadata": {},
   "outputs": [
    {
     "data": {
      "text/plain": [
       "<Experiment: artifact_location='/Users/arturoavalos/Documents/MSDS/4mod/mlops/mlruns/4', creation_time=1742859512056, experiment_id='4', last_update_time=1742859512056, lifecycle_stage='active', name='iris-classification', tags={}>"
      ]
     },
     "execution_count": 9,
     "metadata": {},
     "output_type": "execute_result"
    }
   ],
   "source": [
    "mlflow.set_tracking_uri('sqlite:///mlflow.db')\n",
    "mlflow.set_experiment('iris-classification')"
   ]
  },
  {
   "cell_type": "markdown",
   "metadata": {},
   "source": [
    "### Descision Tree "
   ]
  },
  {
   "cell_type": "code",
   "execution_count": 11,
   "metadata": {},
   "outputs": [],
   "source": [
    "from sklearn.tree import DecisionTreeClassifier\n",
    "from sklearn.metrics import accuracy_score\n",
    "\n",
    "max_depths = [3, 5, 7, 10, None]\n",
    "criterions = ['gini', 'entropy']\n",
    "\n",
    "for depth in max_depths:\n",
    "    for criterion in criterions:\n",
    "        with mlflow.start_run():\n",
    "            mlflow.set_tags({\"Model\": \"decision-tree\", \"Train Data\": \"80%\"})\n",
    "            \n",
    "            mlflow.log_params({'max_depth': depth, 'criterion': criterion})\n",
    "            \n",
    "            dt = DecisionTreeClassifier(max_depth=depth, criterion=criterion)\n",
    "            dt.fit(X_train, y_train)\n",
    "            y_pred = dt.predict(X_test)\n",
    "            acc = accuracy_score(y_test, y_pred)\n",
    "            \n",
    "            mlflow.log_metric('accuracy', acc)\n",
    "        mlflow.end_run()"
   ]
  },
  {
   "cell_type": "markdown",
   "metadata": {},
   "source": [
    "### Knn"
   ]
  },
  {
   "cell_type": "code",
   "execution_count": 13,
   "metadata": {},
   "outputs": [],
   "source": [
    "from sklearn.neighbors import KNeighborsClassifier\n",
    "from sklearn.metrics import accuracy_score\n",
    "\n",
    "n_neighbors_values = [3, 5, 7, 10, 15]\n",
    "weights_options = ['uniform', 'distance']\n",
    "\n",
    "for n_neighbors in n_neighbors_values:\n",
    "    for weights in weights_options:\n",
    "        with mlflow.start_run():\n",
    "            mlflow.set_tags({\"Model\": \"knn\", \"Train Data\": \"80%\"})\n",
    "            \n",
    "            mlflow.log_params({'n_neighbors': n_neighbors, 'weights': weights})\n",
    "            \n",
    "            knn = KNeighborsClassifier(n_neighbors=n_neighbors, weights=weights)\n",
    "            knn.fit(X_train, y_train)\n",
    "            y_pred = knn.predict(X_test)\n",
    "            acc = accuracy_score(y_test, y_pred)\n",
    "            \n",
    "            mlflow.log_metric('accuracy', acc)\n",
    "        mlflow.end_run()"
   ]
  },
  {
   "cell_type": "markdown",
   "metadata": {},
   "source": [
    "### Random Forest"
   ]
  },
  {
   "cell_type": "code",
   "execution_count": 14,
   "metadata": {},
   "outputs": [],
   "source": [
    "from sklearn.ensemble import RandomForestClassifier\n",
    "from sklearn.metrics import accuracy_score\n",
    "\n",
    "max_depths = [3, 5, 7, 10, None]\n",
    "criterions = ['gini', 'entropy']\n",
    "n_estimators = [50, 100, 200]\n",
    "\n",
    "for depth in max_depths:\n",
    "    for criterion in criterions:\n",
    "        for n_estimator in n_estimators:\n",
    "            with mlflow.start_run():\n",
    "                mlflow.set_tags({\"Model\": \"random-forest\", \"Train Data\": \"80%\"})\n",
    "                \n",
    "                mlflow.log_params({\n",
    "                    'max_depth': depth, \n",
    "                    'criterion': criterion,\n",
    "                    'n_estimators': n_estimator\n",
    "                })\n",
    "                \n",
    "                rf = RandomForestClassifier(\n",
    "                    max_depth=depth, \n",
    "                    criterion=criterion,\n",
    "                    n_estimators=n_estimator,\n",
    "                    random_state=42\n",
    "                )\n",
    "                rf.fit(X_train, y_train)\n",
    "                y_pred = rf.predict(X_test)\n",
    "                acc = accuracy_score(y_test, y_pred)\n",
    "                \n",
    "                mlflow.log_metric('accuracy', acc)\n",
    "            mlflow.end_run()"
   ]
  },
  {
   "cell_type": "markdown",
   "metadata": {},
   "source": [
    "### Feature selection"
   ]
  },
  {
   "cell_type": "code",
   "execution_count": 16,
   "metadata": {},
   "outputs": [
    {
     "name": "stdout",
     "output_type": "stream",
     "text": [
      "Feature Importances:\n",
      "             Feature  Importance\n",
      "2  petal length (cm)    0.466330\n",
      "3   petal width (cm)    0.407388\n",
      "0  sepal length (cm)    0.096623\n",
      "1   sepal width (cm)    0.029659\n"
     ]
    },
    {
     "data": {
      "image/png": "[encoded data removed]",
      "text/plain": [
       "<Figure size 1000x600 with 1 Axes>"
      ]
     },
     "metadata": {},
     "output_type": "display_data"
    }
   ],
   "source": [
    "# Get feature importance from the best Random Forest model\n",
    "#Actually all randoom forest model tested equally\n",
    "rf_best = RandomForestClassifier(\n",
    "    max_depth=10,  # Using a reasonable depth\n",
    "    criterion='entropy',\n",
    "    n_estimators=200,\n",
    "    random_state=42\n",
    ")\n",
    "rf_best.fit(X_train, y_train)\n",
    "\n",
    "# Get feature importances\n",
    "feature_importances = rf_best.feature_importances_\n",
    "\n",
    "# Create a DataFrame to display feature importances\n",
    "feature_names = X.columns\n",
    "importance_df = pd.DataFrame({\n",
    "    'Feature': feature_names,\n",
    "    'Importance': feature_importances\n",
    "})\n",
    "\n",
    "# Sort by importance\n",
    "importance_df = importance_df.sort_values('Importance', ascending=False)\n",
    "\n",
    "# Display the feature importances\n",
    "print(\"Feature Importances:\")\n",
    "print(importance_df)\n",
    "\n",
    "# Visualize feature importances\n",
    "plt.figure(figsize=(10, 6))\n",
    "plt.barh(importance_df['Feature'], importance_df['Importance'])\n",
    "plt.xlabel('Importance')\n",
    "plt.ylabel('Feature')\n",
    "plt.title('Feature Importance from Random Forest')\n",
    "plt.tight_layout()\n",
    "plt.show()"
   ]
  },
  {
   "cell_type": "markdown",
   "metadata": {},
   "source": [
    "Checks out given our graph, let's now only use these two features."
   ]
  },
  {
   "cell_type": "code",
   "execution_count": 18,
   "metadata": {},
   "outputs": [],
   "source": [
    "red_X = X.drop(['sepal length (cm)','sepal width (cm)'], axis=1)\n"
   ]
  },
  {
   "cell_type": "code",
   "execution_count": 19,
   "metadata": {},
   "outputs": [],
   "source": [
    "from sklearn.model_selection import cross_val_score, train_test_split\n",
    "\n",
    "X_train, X_test, y_train, y_test = train_test_split(red_X, y, test_size=0.2, shuffle=True)"
   ]
  },
  {
   "cell_type": "markdown",
   "metadata": {},
   "source": [
    "### Decison Tree v2"
   ]
  },
  {
   "cell_type": "code",
   "execution_count": 20,
   "metadata": {},
   "outputs": [],
   "source": [
    "from sklearn.tree import DecisionTreeClassifier\n",
    "from sklearn.metrics import accuracy_score\n",
    "\n",
    "max_depths = [3, 5, 7, 10, None]\n",
    "criterions = ['gini', 'entropy']\n",
    "\n",
    "for depth in max_depths:\n",
    "    for criterion in criterions:\n",
    "        with mlflow.start_run():\n",
    "            mlflow.set_tags({\"Model\": \"decision-tree-v2\", \"Train Data\": \"80%\"})\n",
    "            \n",
    "            mlflow.log_params({'max_depth': depth, 'criterion': criterion})\n",
    "            \n",
    "            dt = DecisionTreeClassifier(max_depth=depth, criterion=criterion)\n",
    "            dt.fit(X_train, y_train)\n",
    "            y_pred = dt.predict(X_test)\n",
    "            acc = accuracy_score(y_test, y_pred)\n",
    "            \n",
    "            mlflow.log_metric('accuracy', acc)\n",
    "        mlflow.end_run()"
   ]
  },
  {
   "cell_type": "markdown",
   "metadata": {},
   "source": [
    "### KNN v2"
   ]
  },
  {
   "cell_type": "code",
   "execution_count": 22,
   "metadata": {},
   "outputs": [],
   "source": [
    "from sklearn.neighbors import KNeighborsClassifier\n",
    "from sklearn.metrics import accuracy_score\n",
    "\n",
    "n_neighbors_values = [3, 5, 7, 10, 15]\n",
    "weights_options = ['uniform', 'distance']\n",
    "\n",
    "for n_neighbors in n_neighbors_values:\n",
    "    for weights in weights_options:\n",
    "        with mlflow.start_run():\n",
    "            mlflow.set_tags({\"Model\": \"knn-v2\", \"Train Data\": \"80%\"})\n",
    "            \n",
    "            mlflow.log_params({'n_neighbors': n_neighbors, 'weights': weights})\n",
    "            \n",
    "            knn = KNeighborsClassifier(n_neighbors=n_neighbors, weights=weights)\n",
    "            knn.fit(X_train, y_train)\n",
    "            y_pred = knn.predict(X_test)\n",
    "            acc = accuracy_score(y_test, y_pred)\n",
    "            \n",
    "            mlflow.log_metric('accuracy', acc)\n",
    "        mlflow.end_run()"
   ]
  },
  {
   "cell_type": "markdown",
   "metadata": {},
   "source": [
    "### Random Forest v2"
   ]
  },
  {
   "cell_type": "code",
   "execution_count": 23,
   "metadata": {},
   "outputs": [],
   "source": [
    "from sklearn.ensemble import RandomForestClassifier\n",
    "from sklearn.metrics import accuracy_score\n",
    "\n",
    "max_depths = [3, 5, 7, 10, None]\n",
    "criterions = ['gini', 'entropy']\n",
    "n_estimators = [50, 100, 200]\n",
    "\n",
    "for depth in max_depths:\n",
    "    for criterion in criterions:\n",
    "        for n_estimator in n_estimators:\n",
    "            with mlflow.start_run():\n",
    "                mlflow.set_tags({\"Model\": \"random-forest-v2\", \"Train Data\": \"80%\"})\n",
    "                \n",
    "                mlflow.log_params({\n",
    "                    'max_depth': depth, \n",
    "                    'criterion': criterion,\n",
    "                    'n_estimators': n_estimator\n",
    "                })\n",
    "                \n",
    "                rf = RandomForestClassifier(\n",
    "                    max_depth=depth, \n",
    "                    criterion=criterion,\n",
    "                    n_estimators=n_estimator,\n",
    "                    random_state=42\n",
    "                )\n",
    "                rf.fit(X_train, y_train)\n",
    "                y_pred = rf.predict(X_test)\n",
    "                acc = accuracy_score(y_test, y_pred)\n",
    "                \n",
    "                mlflow.log_metric('accuracy', acc)\n",
    "            mlflow.end_run()"
   ]
  },
  {
   "cell_type": "markdown",
   "metadata": {},
   "source": [
    "### Staging the best model"
   ]
  },
  {
   "cell_type": "code",
   "execution_count": 24,
   "metadata": {},
   "outputs": [
    {
     "name": "stdout",
     "output_type": "stream",
     "text": [
      "Best model run ID: ca8000ef00014850b73d5bfe6e873dea\n",
      "Best model accuracy: 1.0000\n",
      "Best model parameters: {'max_depth': 'None', 'criterion': 'entropy', 'n_estimators': '200'}\n",
      "Model iris_classifier version 1 transitioned to Staging\n"
     ]
    },
    {
     "name": "stderr",
     "output_type": "stream",
     "text": [
      "Successfully registered model 'iris_classifier'.\n",
      "Created version '1' of model 'iris_classifier'.\n",
      "/var/folders/qb/x618gqzx23qfnqfcr7h_v1_r0000gn/T/ipykernel_83338/1485909287.py:37: FutureWarning: ``mlflow.tracking.client.MlflowClient.transition_model_version_stage`` is deprecated since 2.9.0. Model registry stages will be removed in a future major release. To learn more about the deprecation of model registry stages, see our migration guide here: https://mlflow.org/docs/latest/model-registry.html#migrating-from-stages\n",
      "  client.transition_model_version_stage(\n"
     ]
    }
   ],
   "source": [
    "# Query MLflow to find the best model based on accuracy\n",
    "import mlflow\n",
    "from mlflow.entities import ViewType\n",
    "\n",
    "# Get all runs from the experiment\n",
    "experiment = mlflow.get_experiment_by_name(\"iris-classification\")\n",
    "runs = mlflow.search_runs(\n",
    "    experiment_ids=experiment.experiment_id,\n",
    "    filter_string=\"\",\n",
    "    run_view_type=ViewType.ACTIVE_ONLY,\n",
    "    order_by=[\"metrics.accuracy DESC\"]\n",
    ")\n",
    "\n",
    "# Get the best run (first row in the sorted dataframe)\n",
    "best_run = runs.iloc[0]\n",
    "best_run_id = best_run.run_id\n",
    "best_accuracy = best_run[\"metrics.accuracy\"]\n",
    "best_model_params = {\n",
    "    'max_depth': best_run[\"params.max_depth\"],\n",
    "    'criterion': best_run[\"params.criterion\"],\n",
    "    'n_estimators': best_run[\"params.n_estimators\"]\n",
    "}\n",
    "\n",
    "print(f\"Best model run ID: {best_run_id}\")\n",
    "print(f\"Best model accuracy: {best_accuracy:.4f}\")\n",
    "print(f\"Best model parameters: {best_model_params}\")\n",
    "\n",
    "# Register the best model in the MLflow Model Registry\n",
    "model_uri = f\"runs:/{best_run_id}/model\"\n",
    "model_name = \"iris_classifier\"\n",
    "\n",
    "# Register the model\n",
    "model_details = mlflow.register_model(model_uri=model_uri, name=model_name)\n",
    "\n",
    "# Transition the model to staging\n",
    "client = mlflow.tracking.MlflowClient()\n",
    "client.transition_model_version_stage(\n",
    "    name=model_name,\n",
    "    version=model_details.version,\n",
    "    stage=\"Staging\"\n",
    ")\n",
    "\n",
    "print(f\"Model {model_name} version {model_details.version} transitioned to Staging\")\n"
   ]
  },
  {
   "cell_type": "markdown",
   "metadata": {},
   "source": [
    "### Running it on the test set"
   ]
  },
  {
   "cell_type": "code",
   "execution_count": 32,
   "metadata": {},
   "outputs": [
    {
     "name": "stdout",
     "output_type": "stream",
     "text": [
      "Test set accuracy: 1.0000\n",
      "\n",
      "Classification Report:\n",
      "              precision    recall  f1-score   support\n",
      "\n",
      "     Class 0       1.00      1.00      1.00        12\n",
      "     Class 1       1.00      1.00      1.00         8\n",
      "     Class 2       1.00      1.00      1.00        10\n",
      "\n",
      "    accuracy                           1.00        30\n",
      "   macro avg       1.00      1.00      1.00        30\n",
      "weighted avg       1.00      1.00      1.00        30\n",
      "\n"
     ]
    }
   ],
   "source": [
    "# Recreate the model with the best parameters\n",
    "best_model = RandomForestClassifier(\n",
    "    max_depth=None if best_model_params['max_depth'] == 'None' else int(best_model_params['max_depth']), \n",
    "    criterion=best_model_params['criterion'],\n",
    "    n_estimators=int(best_model_params['n_estimators'])\n",
    ")\n",
    "best_model.fit(X_train, y_train)\n",
    "\n",
    "# Make predictions on the test set\n",
    "y_pred = best_model.predict(X_test)\n",
    "\n",
    "# Calculate accuracy on the test set\n",
    "test_accuracy = accuracy_score(y_test, y_pred)\n",
    "print(f\"Test set accuracy: {test_accuracy:.4f}\")\n",
    "\n",
    "# Log the test metrics to MLflow\n",
    "with mlflow.start_run(run_id=best_run_id):\n",
    "    mlflow.log_metric(\"test_accuracy\", test_accuracy)\n",
    "    \n",
    "    # Log classification report\n",
    "    from sklearn.metrics import classification_report\n",
    "    # Get unique target names from the dataset\n",
    "    target_names = [f\"Class {i}\" for i in sorted(y.unique())]\n",
    "    report = classification_report(y_test, y_pred, target_names=target_names)\n",
    "    mlflow.log_text(report, \"test_classification_report.txt\")\n",
    "    print(\"\\nClassification Report:\")\n",
    "    print(report)\n"
   ]
  },
  {
   "cell_type": "markdown",
   "metadata": {},
   "source": [
    "### Logging best models information"
   ]
  },
  {
   "cell_type": "code",
   "execution_count": 36,
   "metadata": {},
   "outputs": [
    {
     "data": {
      "text/html": [
       "<div>\n",
       "<style scoped>\n",
       "    .dataframe tbody tr th:only-of-type {\n",
       "        vertical-align: middle;\n",
       "    }\n",
       "\n",
       "    .dataframe tbody tr th {\n",
       "        vertical-align: top;\n",
       "    }\n",
       "\n",
       "    .dataframe thead th {\n",
       "        text-align: right;\n",
       "    }\n",
       "</style>\n",
       "<table border=\"1\" class=\"dataframe\">\n",
       "  <thead>\n",
       "    <tr style=\"text-align: right;\">\n",
       "      <th></th>\n",
       "      <th>run_id</th>\n",
       "      <th>experiment_id</th>\n",
       "      <th>status</th>\n",
       "      <th>artifact_uri</th>\n",
       "      <th>start_time</th>\n",
       "      <th>end_time</th>\n",
       "      <th>metrics.accuracy</th>\n",
       "      <th>params.max_depth</th>\n",
       "      <th>params.criterion</th>\n",
       "      <th>params.n_estimators</th>\n",
       "      <th>params.n_neighbors</th>\n",
       "      <th>params.weights</th>\n",
       "      <th>tags.Model</th>\n",
       "      <th>tags.mlflow.source.name</th>\n",
       "      <th>tags.mlflow.user</th>\n",
       "      <th>tags.Train Data</th>\n",
       "      <th>tags.mlflow.runName</th>\n",
       "      <th>tags.mlflow.source.type</th>\n",
       "    </tr>\n",
       "  </thead>\n",
       "  <tbody>\n",
       "    <tr>\n",
       "      <th>0</th>\n",
       "      <td>ca8000ef00014850b73d5bfe6e873dea</td>\n",
       "      <td>4</td>\n",
       "      <td>FINISHED</td>\n",
       "      <td>/Users/arturoavalos/Documents/MSDS/4mod/mlops/...</td>\n",
       "      <td>2025-03-25 00:17:25.020000+00:00</td>\n",
       "      <td>2025-03-25 00:17:25.103000+00:00</td>\n",
       "      <td>1.0</td>\n",
       "      <td>None</td>\n",
       "      <td>entropy</td>\n",
       "      <td>200</td>\n",
       "      <td>None</td>\n",
       "      <td>None</td>\n",
       "      <td>random-forest-v2</td>\n",
       "      <td>/opt/homebrew/anaconda3/envs/mlops/lib/python3...</td>\n",
       "      <td>arturoavalos</td>\n",
       "      <td>80%</td>\n",
       "      <td>orderly-steed-643</td>\n",
       "      <td>LOCAL</td>\n",
       "    </tr>\n",
       "    <tr>\n",
       "      <th>1</th>\n",
       "      <td>0b0fdd87c62d4f3b915d14d486152877</td>\n",
       "      <td>4</td>\n",
       "      <td>FINISHED</td>\n",
       "      <td>/Users/arturoavalos/Documents/MSDS/4mod/mlops/...</td>\n",
       "      <td>2025-03-25 00:17:24.947000+00:00</td>\n",
       "      <td>2025-03-25 00:17:24.973000+00:00</td>\n",
       "      <td>1.0</td>\n",
       "      <td>None</td>\n",
       "      <td>entropy</td>\n",
       "      <td>50</td>\n",
       "      <td>None</td>\n",
       "      <td>None</td>\n",
       "      <td>random-forest-v2</td>\n",
       "      <td>/opt/homebrew/anaconda3/envs/mlops/lib/python3...</td>\n",
       "      <td>arturoavalos</td>\n",
       "      <td>80%</td>\n",
       "      <td>respected-whale-174</td>\n",
       "      <td>LOCAL</td>\n",
       "    </tr>\n",
       "    <tr>\n",
       "      <th>2</th>\n",
       "      <td>04f690032ab840b6b260eaa47e8dc065</td>\n",
       "      <td>4</td>\n",
       "      <td>FINISHED</td>\n",
       "      <td>/Users/arturoavalos/Documents/MSDS/4mod/mlops/...</td>\n",
       "      <td>2025-03-25 00:17:24.863000+00:00</td>\n",
       "      <td>2025-03-25 00:17:24.945000+00:00</td>\n",
       "      <td>1.0</td>\n",
       "      <td>None</td>\n",
       "      <td>gini</td>\n",
       "      <td>200</td>\n",
       "      <td>None</td>\n",
       "      <td>None</td>\n",
       "      <td>random-forest-v2</td>\n",
       "      <td>/opt/homebrew/anaconda3/envs/mlops/lib/python3...</td>\n",
       "      <td>arturoavalos</td>\n",
       "      <td>80%</td>\n",
       "      <td>learned-pug-207</td>\n",
       "      <td>LOCAL</td>\n",
       "    </tr>\n",
       "  </tbody>\n",
       "</table>\n",
       "</div>"
      ],
      "text/plain": [
       "                             run_id experiment_id    status  \\\n",
       "0  ca8000ef00014850b73d5bfe6e873dea             4  FINISHED   \n",
       "1  0b0fdd87c62d4f3b915d14d486152877             4  FINISHED   \n",
       "2  04f690032ab840b6b260eaa47e8dc065             4  FINISHED   \n",
       "\n",
       "                                        artifact_uri  \\\n",
       "0  /Users/arturoavalos/Documents/MSDS/4mod/mlops/...   \n",
       "1  /Users/arturoavalos/Documents/MSDS/4mod/mlops/...   \n",
       "2  /Users/arturoavalos/Documents/MSDS/4mod/mlops/...   \n",
       "\n",
       "                        start_time                         end_time  \\\n",
       "0 2025-03-25 00:17:25.020000+00:00 2025-03-25 00:17:25.103000+00:00   \n",
       "1 2025-03-25 00:17:24.947000+00:00 2025-03-25 00:17:24.973000+00:00   \n",
       "2 2025-03-25 00:17:24.863000+00:00 2025-03-25 00:17:24.945000+00:00   \n",
       "\n",
       "   metrics.accuracy params.max_depth params.criterion params.n_estimators  \\\n",
       "0               1.0             None          entropy                 200   \n",
       "1               1.0             None          entropy                  50   \n",
       "2               1.0             None             gini                 200   \n",
       "\n",
       "  params.n_neighbors params.weights        tags.Model  \\\n",
       "0               None           None  random-forest-v2   \n",
       "1               None           None  random-forest-v2   \n",
       "2               None           None  random-forest-v2   \n",
       "\n",
       "                             tags.mlflow.source.name tags.mlflow.user  \\\n",
       "0  /opt/homebrew/anaconda3/envs/mlops/lib/python3...     arturoavalos   \n",
       "1  /opt/homebrew/anaconda3/envs/mlops/lib/python3...     arturoavalos   \n",
       "2  /opt/homebrew/anaconda3/envs/mlops/lib/python3...     arturoavalos   \n",
       "\n",
       "  tags.Train Data  tags.mlflow.runName tags.mlflow.source.type  \n",
       "0             80%    orderly-steed-643                   LOCAL  \n",
       "1             80%  respected-whale-174                   LOCAL  \n",
       "2             80%      learned-pug-207                   LOCAL  "
      ]
     },
     "execution_count": 36,
     "metadata": {},
     "output_type": "execute_result"
    }
   ],
   "source": [
    "top_runs"
   ]
  },
  {
   "cell_type": "code",
   "execution_count": 38,
   "metadata": {},
   "outputs": [
    {
     "name": "stdout",
     "output_type": "stream",
     "text": [
      "\n",
      "Best Model #1 (Run ID: ca8000ef00014850b73d5bfe6e873dea):\n",
      "Training Accuracy: N/A\n",
      "Test Accuracy: Not yet evaluated\n",
      "\n",
      "Hyperparameters:\n",
      "  max_depth: None\n",
      "  criterion: entropy\n",
      "  n_estimators: 200\n",
      "\n",
      "Best Model #2 (Run ID: 0b0fdd87c62d4f3b915d14d486152877):\n",
      "Training Accuracy: N/A\n",
      "Test Accuracy: Not yet evaluated\n",
      "\n",
      "Hyperparameters:\n",
      "  max_depth: None\n",
      "  criterion: entropy\n",
      "  n_estimators: 50\n",
      "\n",
      "Best Model #3 (Run ID: 04f690032ab840b6b260eaa47e8dc065):\n",
      "Training Accuracy: N/A\n",
      "Test Accuracy: Not yet evaluated\n",
      "\n",
      "Hyperparameters:\n",
      "  max_depth: None\n",
      "  criterion: gini\n",
      "  n_estimators: 200\n"
     ]
    }
   ],
   "source": [
    "# Get the top 3 runs from the DataFrame\n",
    "top_runs = runs.iloc[:3]\n",
    "\n",
    "for i, (_, run_row) in enumerate(top_runs.iterrows(), 1):\n",
    "    run_id = run_row['run_id']\n",
    "    \n",
    "    print(f\"\\nBest Model #{i} (Run ID: {run_id}):\")\n",
    "    # Fix the formatting error by checking if the value is a string or number\n",
    "    train_accuracy = run_row.get('metrics.train_accuracy', 'N/A')\n",
    "    if isinstance(train_accuracy, (int, float)):\n",
    "        print(f\"Training Accuracy: {train_accuracy:.4f}\")\n",
    "    else:\n",
    "        print(f\"Training Accuracy: {train_accuracy}\")\n",
    "    \n",
    "    # Fix the test accuracy display similarly\n",
    "    test_accuracy = run_row.get('metrics.test_accuracy', 'N/A')\n",
    "    if 'metrics.test_accuracy' in run_row:\n",
    "        if isinstance(test_accuracy, (int, float)):\n",
    "            print(f\"Test Accuracy: {test_accuracy:.4f}\")\n",
    "        else:\n",
    "            print(f\"Test Accuracy: {test_accuracy}\")\n",
    "    else:\n",
    "        print(\"Test Accuracy: Not yet evaluated\")\n",
    "    \n",
    "    print(\"\\nHyperparameters:\")\n",
    "    # Extract parameters from the DataFrame row\n",
    "    param_columns = [col for col in run_row.index if col.startswith('params.')]\n",
    "    for param_col in param_columns:\n",
    "        param_name = param_col.replace('params.', '')\n",
    "        param_value = run_row[param_col]\n",
    "        if param_value is not None:  # Only print non-None parameters\n",
    "            print(f\"  {param_name}: {param_value}\")\n",
    "    \n",
    "    # Log dataset information\n",
    "    try:\n",
    "        with mlflow.start_run(run_id=run_id, nested=True):\n",
    "            mlflow.log_dict({\n",
    "                \"dataset_info\": {\n",
    "                    \"training_set_shape\": X_train.shape,\n",
    "                    \"test_set_shape\": X_test.shape,\n",
    "                    \"training_samples\": len(X_train),\n",
    "                    \"test_samples\": len(X_test),\n",
    "                    \"features\": list(X.columns),\n",
    "                    \"target_classes\": sorted(y.unique().tolist())\n",
    "                }\n",
    "            }, \"dataset_info.json\")\n",
    "    except Exception as e:\n",
    "        print(f\"Could not log dataset info for run {run_id}: {str(e)}\")\n"
   ]
  }
 ],
 "metadata": {
  "kernelspec": {
   "display_name": "mlops",
   "language": "python",
   "name": "python3"
  },
  "language_info": {
   "codemirror_mode": {
    "name": "ipython",
    "version": 3
   },
   "file_extension": ".py",
   "mimetype": "text/x-python",
   "name": "python",
   "nbconvert_exporter": "python",
   "pygments_lexer": "ipython3",
   "version": "3.12.2"
  }
 },
 "nbformat": 4,
 "nbformat_minor": 2
}
