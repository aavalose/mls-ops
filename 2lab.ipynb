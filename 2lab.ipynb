{
 "cells": [
  {
   "cell_type": "markdown",
   "metadata": {},
   "source": [
    "# Lab 2 - Arturo Avalos\n",
    "\n",
    "Getting the data:"
   ]
  },
  {
   "cell_type": "code",
   "execution_count": 23,
   "metadata": {},
   "outputs": [],
   "source": [
    "from xgboost import XGBClassifier\n",
    "from sklearn.neighbors import KNeighborsClassifier\n",
    "from sklearn.tree import DecisionTreeClassifier\n",
    "from sklearn.ensemble import RandomForestClassifier\n",
    "from sklearn.metrics import accuracy_score\n",
    "from sklearn.model_selection import cross_val_score\n",
    "import mlflow\n",
    "import pandas as pd\n",
    "from sklearn.tree import DecisionTreeClassifier\n",
    "from sklearn.datasets import load_wine\n",
    "from sklearn.metrics import accuracy_score"
   ]
  },
  {
   "cell_type": "code",
   "execution_count": 24,
   "metadata": {},
   "outputs": [
    {
     "name": "stdout",
     "output_type": "stream",
     "text": [
      "<class 'pandas.core.frame.DataFrame'>\n",
      "RangeIndex: 150 entries, 0 to 149\n",
      "Data columns (total 5 columns):\n",
      " #   Column             Non-Null Count  Dtype  \n",
      "---  ------             --------------  -----  \n",
      " 0   sepal length (cm)  150 non-null    float64\n",
      " 1   sepal width (cm)   150 non-null    float64\n",
      " 2   petal length (cm)  150 non-null    float64\n",
      " 3   petal width (cm)   150 non-null    float64\n",
      " 4   target             150 non-null    int64  \n",
      "dtypes: float64(4), int64(1)\n",
      "memory usage: 6.0 KB\n"
     ]
    }
   ],
   "source": [
    "from sklearn import datasets\n",
    "data = datasets.load_iris(as_frame=True)\n",
    "data = data.frame\n",
    "data.info()"
   ]
  },
  {
   "cell_type": "code",
   "execution_count": 25,
   "metadata": {},
   "outputs": [],
   "source": [
    "y = data['target']\n",
    "X = data.drop('target', axis=1)"
   ]
  },
  {
   "cell_type": "code",
   "execution_count": 26,
   "metadata": {},
   "outputs": [],
   "source": [
    "from sklearn.model_selection import cross_val_score, train_test_split\n",
    "\n",
    "X_train, X_test, y_train, y_test = train_test_split(X, y, test_size=0.2, shuffle=True)"
   ]
  },
  {
   "cell_type": "markdown",
   "metadata": {},
   "source": [
    "### Training"
   ]
  },
  {
   "cell_type": "code",
   "execution_count": 27,
   "metadata": {},
   "outputs": [
    {
     "name": "stderr",
     "output_type": "stream",
     "text": [
      "2025/04/15 15:08:21 INFO mlflow.tracking.fluent: Experiment with name 'lab5-GCP-iris-classification' does not exist. Creating a new experiment.\n"
     ]
    },
    {
     "data": {
      "text/plain": [
       "<Experiment: artifact_location='mlflow-artifacts:/1', creation_time=1744754901454, experiment_id='1', last_update_time=1744754901454, lifecycle_stage='active', name='lab5-GCP-iris-classification', tags={}>"
      ]
     },
     "execution_count": 27,
     "metadata": {},
     "output_type": "execute_result"
    }
   ],
   "source": [
    "mlflow.set_tracking_uri('https://mlflow-server-525775795233.us-west2.run.app')\n",
    "mlflow.set_experiment('lab5-GCP-iris-classification')"
   ]
  },
  {
   "cell_type": "markdown",
   "metadata": {},
   "source": [
    "### Descision Tree "
   ]
  },
  {
   "cell_type": "code",
   "execution_count": 28,
   "metadata": {},
   "outputs": [
    {
     "name": "stderr",
     "output_type": "stream",
     "text": [
      "2025/04/15 15:08:32 INFO mlflow.tracking._tracking_service.client: 🏃 View run polite-wren-757 at: https://mlflow-server-525775795233.us-west2.run.app/#/experiments/1/runs/52595df52c02492dbc080421a3c9ed1b.\n",
      "2025/04/15 15:08:32 INFO mlflow.tracking._tracking_service.client: 🧪 View experiment at: https://mlflow-server-525775795233.us-west2.run.app/#/experiments/1.\n",
      "2025/04/15 15:08:32 INFO mlflow.tracking._tracking_service.client: 🏃 View run agreeable-mole-10 at: https://mlflow-server-525775795233.us-west2.run.app/#/experiments/1/runs/ce6312ca0310441db57535bc9d3f7b11.\n",
      "2025/04/15 15:08:32 INFO mlflow.tracking._tracking_service.client: 🧪 View experiment at: https://mlflow-server-525775795233.us-west2.run.app/#/experiments/1.\n",
      "2025/04/15 15:08:33 INFO mlflow.tracking._tracking_service.client: 🏃 View run delicate-newt-11 at: https://mlflow-server-525775795233.us-west2.run.app/#/experiments/1/runs/9f4507bc7c414c4ba55e55c904651506.\n",
      "2025/04/15 15:08:33 INFO mlflow.tracking._tracking_service.client: 🧪 View experiment at: https://mlflow-server-525775795233.us-west2.run.app/#/experiments/1.\n",
      "2025/04/15 15:08:33 INFO mlflow.tracking._tracking_service.client: 🏃 View run auspicious-gull-340 at: https://mlflow-server-525775795233.us-west2.run.app/#/experiments/1/runs/87bc34e6348f4ffd8897f820b3086ca5.\n",
      "2025/04/15 15:08:33 INFO mlflow.tracking._tracking_service.client: 🧪 View experiment at: https://mlflow-server-525775795233.us-west2.run.app/#/experiments/1.\n",
      "2025/04/15 15:08:33 INFO mlflow.tracking._tracking_service.client: 🏃 View run rebellious-hawk-170 at: https://mlflow-server-525775795233.us-west2.run.app/#/experiments/1/runs/509e7e52bbef4d7c933621d8c2354021.\n",
      "2025/04/15 15:08:33 INFO mlflow.tracking._tracking_service.client: 🧪 View experiment at: https://mlflow-server-525775795233.us-west2.run.app/#/experiments/1.\n",
      "2025/04/15 15:08:34 INFO mlflow.tracking._tracking_service.client: 🏃 View run painted-asp-214 at: https://mlflow-server-525775795233.us-west2.run.app/#/experiments/1/runs/7e627fc5993447d8b4b5381477cf9c25.\n",
      "2025/04/15 15:08:34 INFO mlflow.tracking._tracking_service.client: 🧪 View experiment at: https://mlflow-server-525775795233.us-west2.run.app/#/experiments/1.\n",
      "2025/04/15 15:08:34 INFO mlflow.tracking._tracking_service.client: 🏃 View run nebulous-trout-560 at: https://mlflow-server-525775795233.us-west2.run.app/#/experiments/1/runs/6d2105abb34b47138751844a89749baa.\n",
      "2025/04/15 15:08:34 INFO mlflow.tracking._tracking_service.client: 🧪 View experiment at: https://mlflow-server-525775795233.us-west2.run.app/#/experiments/1.\n",
      "2025/04/15 15:08:34 INFO mlflow.tracking._tracking_service.client: 🏃 View run placid-skink-310 at: https://mlflow-server-525775795233.us-west2.run.app/#/experiments/1/runs/80858a85c64849378179bdc32492e5d5.\n",
      "2025/04/15 15:08:34 INFO mlflow.tracking._tracking_service.client: 🧪 View experiment at: https://mlflow-server-525775795233.us-west2.run.app/#/experiments/1.\n",
      "2025/04/15 15:08:35 INFO mlflow.tracking._tracking_service.client: 🏃 View run marvelous-sloth-195 at: https://mlflow-server-525775795233.us-west2.run.app/#/experiments/1/runs/659547fc61ec454e8505aa691a5fc0d2.\n",
      "2025/04/15 15:08:35 INFO mlflow.tracking._tracking_service.client: 🧪 View experiment at: https://mlflow-server-525775795233.us-west2.run.app/#/experiments/1.\n",
      "2025/04/15 15:08:35 INFO mlflow.tracking._tracking_service.client: 🏃 View run lyrical-worm-500 at: https://mlflow-server-525775795233.us-west2.run.app/#/experiments/1/runs/53be4ceb618349e0a3450136b67eb17f.\n",
      "2025/04/15 15:08:35 INFO mlflow.tracking._tracking_service.client: 🧪 View experiment at: https://mlflow-server-525775795233.us-west2.run.app/#/experiments/1.\n"
     ]
    }
   ],
   "source": [
    "from sklearn.tree import DecisionTreeClassifier\n",
    "from sklearn.metrics import accuracy_score\n",
    "\n",
    "max_depths = [3, 5, 7, 10, None]\n",
    "criterions = ['gini', 'entropy']\n",
    "\n",
    "for depth in max_depths:\n",
    "    for criterion in criterions:\n",
    "        with mlflow.start_run():\n",
    "            mlflow.set_tags({\"Model\": \"decision-tree\", \"Train Data\": \"80%\"})\n",
    "            \n",
    "            mlflow.log_params({'max_depth': depth, 'criterion': criterion})\n",
    "            \n",
    "            dt = DecisionTreeClassifier(max_depth=depth, criterion=criterion)\n",
    "            dt.fit(X_train, y_train)\n",
    "            y_pred = dt.predict(X_test)\n",
    "            acc = accuracy_score(y_test, y_pred)\n",
    "            \n",
    "            mlflow.log_metric('accuracy', acc)\n",
    "        mlflow.end_run()"
   ]
  },
  {
   "cell_type": "markdown",
   "metadata": {},
   "source": [
    "### Knn"
   ]
  },
  {
   "cell_type": "code",
   "execution_count": 29,
   "metadata": {},
   "outputs": [
    {
     "name": "stderr",
     "output_type": "stream",
     "text": [
      "2025/04/15 15:08:50 INFO mlflow.tracking._tracking_service.client: 🏃 View run dashing-goat-182 at: https://mlflow-server-525775795233.us-west2.run.app/#/experiments/1/runs/6f1388e5fd4b40a1974aa8fccfd0e37a.\n",
      "2025/04/15 15:08:50 INFO mlflow.tracking._tracking_service.client: 🧪 View experiment at: https://mlflow-server-525775795233.us-west2.run.app/#/experiments/1.\n",
      "2025/04/15 15:08:50 INFO mlflow.tracking._tracking_service.client: 🏃 View run carefree-ox-587 at: https://mlflow-server-525775795233.us-west2.run.app/#/experiments/1/runs/3d7256764c3c4f24a9f6c59683c183bc.\n",
      "2025/04/15 15:08:50 INFO mlflow.tracking._tracking_service.client: 🧪 View experiment at: https://mlflow-server-525775795233.us-west2.run.app/#/experiments/1.\n",
      "2025/04/15 15:08:51 INFO mlflow.tracking._tracking_service.client: 🏃 View run aged-fox-620 at: https://mlflow-server-525775795233.us-west2.run.app/#/experiments/1/runs/b3ddde834a5b4a37a7483b34b97ba489.\n",
      "2025/04/15 15:08:51 INFO mlflow.tracking._tracking_service.client: 🧪 View experiment at: https://mlflow-server-525775795233.us-west2.run.app/#/experiments/1.\n",
      "2025/04/15 15:08:51 INFO mlflow.tracking._tracking_service.client: 🏃 View run inquisitive-vole-602 at: https://mlflow-server-525775795233.us-west2.run.app/#/experiments/1/runs/3fea489bd44242ad8eb597c5885db8d9.\n",
      "2025/04/15 15:08:51 INFO mlflow.tracking._tracking_service.client: 🧪 View experiment at: https://mlflow-server-525775795233.us-west2.run.app/#/experiments/1.\n",
      "2025/04/15 15:08:51 INFO mlflow.tracking._tracking_service.client: 🏃 View run upset-loon-581 at: https://mlflow-server-525775795233.us-west2.run.app/#/experiments/1/runs/d6758ab0172242e1820552bfb1141a9a.\n",
      "2025/04/15 15:08:51 INFO mlflow.tracking._tracking_service.client: 🧪 View experiment at: https://mlflow-server-525775795233.us-west2.run.app/#/experiments/1.\n",
      "2025/04/15 15:08:52 INFO mlflow.tracking._tracking_service.client: 🏃 View run unique-goat-479 at: https://mlflow-server-525775795233.us-west2.run.app/#/experiments/1/runs/9a4c76ccd5e44b12949912fe79ea641f.\n",
      "2025/04/15 15:08:52 INFO mlflow.tracking._tracking_service.client: 🧪 View experiment at: https://mlflow-server-525775795233.us-west2.run.app/#/experiments/1.\n",
      "2025/04/15 15:08:52 INFO mlflow.tracking._tracking_service.client: 🏃 View run clean-shad-185 at: https://mlflow-server-525775795233.us-west2.run.app/#/experiments/1/runs/a1436ec09b8f4573a7d553a29012e607.\n",
      "2025/04/15 15:08:52 INFO mlflow.tracking._tracking_service.client: 🧪 View experiment at: https://mlflow-server-525775795233.us-west2.run.app/#/experiments/1.\n",
      "2025/04/15 15:08:52 INFO mlflow.tracking._tracking_service.client: 🏃 View run bustling-rat-739 at: https://mlflow-server-525775795233.us-west2.run.app/#/experiments/1/runs/d9007ea1e43344a6b379886d5672d66a.\n",
      "2025/04/15 15:08:52 INFO mlflow.tracking._tracking_service.client: 🧪 View experiment at: https://mlflow-server-525775795233.us-west2.run.app/#/experiments/1.\n",
      "2025/04/15 15:08:53 INFO mlflow.tracking._tracking_service.client: 🏃 View run intelligent-hen-278 at: https://mlflow-server-525775795233.us-west2.run.app/#/experiments/1/runs/bf565f78a73c4f27a372fc0c78526084.\n",
      "2025/04/15 15:08:53 INFO mlflow.tracking._tracking_service.client: 🧪 View experiment at: https://mlflow-server-525775795233.us-west2.run.app/#/experiments/1.\n",
      "2025/04/15 15:08:53 INFO mlflow.tracking._tracking_service.client: 🏃 View run intrigued-eel-245 at: https://mlflow-server-525775795233.us-west2.run.app/#/experiments/1/runs/c400db34608d42988951452fab846a3e.\n",
      "2025/04/15 15:08:53 INFO mlflow.tracking._tracking_service.client: 🧪 View experiment at: https://mlflow-server-525775795233.us-west2.run.app/#/experiments/1.\n"
     ]
    }
   ],
   "source": [
    "from sklearn.neighbors import KNeighborsClassifier\n",
    "from sklearn.metrics import accuracy_score\n",
    "\n",
    "n_neighbors_values = [3, 5, 7, 10, 15]\n",
    "weights_options = ['uniform', 'distance']\n",
    "\n",
    "for n_neighbors in n_neighbors_values:\n",
    "    for weights in weights_options:\n",
    "        with mlflow.start_run():\n",
    "            mlflow.set_tags({\"Model\": \"knn\", \"Train Data\": \"80%\"})\n",
    "            \n",
    "            mlflow.log_params({'n_neighbors': n_neighbors, 'weights': weights})\n",
    "            \n",
    "            knn = KNeighborsClassifier(n_neighbors=n_neighbors, weights=weights)\n",
    "            knn.fit(X_train, y_train)\n",
    "            y_pred = knn.predict(X_test)\n",
    "            acc = accuracy_score(y_test, y_pred)\n",
    "            \n",
    "            mlflow.log_metric('accuracy', acc)\n",
    "        mlflow.end_run()"
   ]
  },
  {
   "cell_type": "code",
   "execution_count": 34,
   "metadata": {},
   "outputs": [
    {
     "name": "stdout",
     "output_type": "stream",
     "text": [
      "Selected model: knn with accuracy 1.0000\n",
      "Run ID: c400db34608d42988951452fab846a3e\n"
     ]
    },
    {
     "name": "stderr",
     "output_type": "stream",
     "text": [
      "Successfully registered model 'iris_classifier_best'.\n",
      "2025/04/15 15:17:32 INFO mlflow.store.model_registry.abstract_store: Waiting up to 300 seconds for model version to finish creation. Model name: iris_classifier_best, version 1\n"
     ]
    },
    {
     "name": "stdout",
     "output_type": "stream",
     "text": [
      "Model registered as: iris_classifier_best (version: 1)\n"
     ]
    },
    {
     "name": "stderr",
     "output_type": "stream",
     "text": [
      "Created version '1' of model 'iris_classifier_best'.\n"
     ]
    }
   ],
   "source": [
    "# Register the model with specific run ID\n",
    "run_id = \"c400db34608d42988951452fab846a3e\"\n",
    "experiment = mlflow.get_experiment_by_name(\"lab5-GCP-iris-classification\")\n",
    "\n",
    "# Get run details\n",
    "run = mlflow.get_run(run_id)\n",
    "model_type = run.data.tags.get(\"Model\", \"unknown\")\n",
    "accuracy = run.data.metrics.get(\"accuracy\", 0)\n",
    "\n",
    "print(f\"Selected model: {model_type} with accuracy {accuracy:.4f}\")\n",
    "print(f\"Run ID: {run_id}\")\n",
    "\n",
    "# Register the model in the MLflow Model Registry\n",
    "model_name = \"iris_classifier_best\"\n",
    "model_version = mlflow.register_model(\n",
    "    f\"runs:/{run_id}/model\",\n",
    "    model_name\n",
    ")\n",
    "\n",
    "print(f\"Model registered as: {model_name} (version: {model_version.version})\")\n"
   ]
  },
  {
   "cell_type": "markdown",
   "metadata": {},
   "source": [
    "### Random Forest"
   ]
  },
  {
   "cell_type": "markdown",
   "metadata": {},
   "source": [
    "### Feature selection"
   ]
  },
  {
   "cell_type": "code",
   "execution_count": 16,
   "metadata": {},
   "outputs": [
    {
     "name": "stdout",
     "output_type": "stream",
     "text": [
      "Feature Importances:\n",
      "             Feature  Importance\n",
      "2  petal length (cm)    0.466330\n",
      "3   petal width (cm)    0.407388\n",
      "0  sepal length (cm)    0.096623\n",
      "1   sepal width (cm)    0.029659\n"
     ]
    },
    {
     "data": {
      "image/png": "[encoded data removed]",
      "text/plain": [
       "<Figure size 1000x600 with 1 Axes>"
      ]
     },
     "metadata": {},
     "output_type": "display_data"
    }
   ],
   "source": [
    "# # Get feature importance from the best Random Forest model\n",
    "# #Actually all randoom forest model tested equally\n",
    "# rf_best = RandomForestClassifier(\n",
    "#     max_depth=10,  # Using a reasonable depth\n",
    "#     criterion='entropy',\n",
    "#     n_estimators=200,\n",
    "#     random_state=42\n",
    "# )\n",
    "# rf_best.fit(X_train, y_train)\n",
    "\n",
    "# # Get feature importances\n",
    "# feature_importances = rf_best.feature_importances_\n",
    "\n",
    "# # Create a DataFrame to display feature importances\n",
    "# feature_names = X.columns\n",
    "# importance_df = pd.DataFrame({\n",
    "#     'Feature': feature_names,\n",
    "#     'Importance': feature_importances\n",
    "# })\n",
    "\n",
    "# # Sort by importance\n",
    "# importance_df = importance_df.sort_values('Importance', ascending=False)\n",
    "\n",
    "# # Display the feature importances\n",
    "# print(\"Feature Importances:\")\n",
    "# print(importance_df)\n",
    "\n",
    "# # Visualize feature importances\n",
    "# plt.figure(figsize=(10, 6))\n",
    "# plt.barh(importance_df['Feature'], importance_df['Importance'])\n",
    "# plt.xlabel('Importance')\n",
    "# plt.ylabel('Feature')\n",
    "# plt.title('Feature Importance from Random Forest')\n",
    "# plt.tight_layout()\n",
    "# plt.show()"
   ]
  },
  {
   "cell_type": "markdown",
   "metadata": {},
   "source": [
    "Checks out given our graph, let's now only use these two features."
   ]
  },
  {
   "cell_type": "code",
   "execution_count": 18,
   "metadata": {},
   "outputs": [],
   "source": [
    "red_X = X.drop(['sepal length (cm)','sepal width (cm)'], axis=1)\n"
   ]
  },
  {
   "cell_type": "code",
   "execution_count": 19,
   "metadata": {},
   "outputs": [],
   "source": [
    "from sklearn.model_selection import cross_val_score, train_test_split\n",
    "\n",
    "X_train, X_test, y_train, y_test = train_test_split(red_X, y, test_size=0.2, shuffle=True)"
   ]
  },
  {
   "cell_type": "markdown",
   "metadata": {},
   "source": [
    "### Decison Tree v2"
   ]
  },
  {
   "cell_type": "code",
   "execution_count": 20,
   "metadata": {},
   "outputs": [],
   "source": [
    "from sklearn.tree import DecisionTreeClassifier\n",
    "from sklearn.metrics import accuracy_score\n",
    "\n",
    "max_depths = [3, 5, 7, 10, None]\n",
    "criterions = ['gini', 'entropy']\n",
    "\n",
    "for depth in max_depths:\n",
    "    for criterion in criterions:\n",
    "        with mlflow.start_run():\n",
    "            mlflow.set_tags({\"Model\": \"decision-tree-v2\", \"Train Data\": \"80%\"})\n",
    "            \n",
    "            mlflow.log_params({'max_depth': depth, 'criterion': criterion})\n",
    "            \n",
    "            dt = DecisionTreeClassifier(max_depth=depth, criterion=criterion)\n",
    "            dt.fit(X_train, y_train)\n",
    "            y_pred = dt.predict(X_test)\n",
    "            acc = accuracy_score(y_test, y_pred)\n",
    "            \n",
    "            mlflow.log_metric('accuracy', acc)\n",
    "        mlflow.end_run()"
   ]
  },
  {
   "cell_type": "markdown",
   "metadata": {},
   "source": [
    "### KNN v2"
   ]
  },
  {
   "cell_type": "code",
   "execution_count": 22,
   "metadata": {},
   "outputs": [],
   "source": [
    "from sklearn.neighbors import KNeighborsClassifier\n",
    "from sklearn.metrics import accuracy_score\n",
    "\n",
    "n_neighbors_values = [3, 5, 7, 10, 15]\n",
    "weights_options = ['uniform', 'distance']\n",
    "\n",
    "for n_neighbors in n_neighbors_values:\n",
    "    for weights in weights_options:\n",
    "        with mlflow.start_run():\n",
    "            mlflow.set_tags({\"Model\": \"knn-v2\", \"Train Data\": \"80%\"})\n",
    "            \n",
    "            mlflow.log_params({'n_neighbors': n_neighbors, 'weights': weights})\n",
    "            \n",
    "            knn = KNeighborsClassifier(n_neighbors=n_neighbors, weights=weights)\n",
    "            knn.fit(X_train, y_train)\n",
    "            y_pred = knn.predict(X_test)\n",
    "            acc = accuracy_score(y_test, y_pred)\n",
    "            \n",
    "            mlflow.log_metric('accuracy', acc)\n",
    "        mlflow.end_run()"
   ]
  },
  {
   "cell_type": "markdown",
   "metadata": {},
   "source": [
    "### Random Forest v2"
   ]
  },
  {
   "cell_type": "code",
   "execution_count": 23,
   "metadata": {},
   "outputs": [],
   "source": [
    "# from sklearn.ensemble import RandomForestClassifier\n",
    "# from sklearn.metrics import accuracy_score\n",
    "\n",
    "# max_depths = [3, 5, 7, 10, None]\n",
    "# criterions = ['gini', 'entropy']\n",
    "# n_estimators = [50, 100, 200]\n",
    "\n",
    "# for depth in max_depths:\n",
    "#     for criterion in criterions:\n",
    "#         for n_estimator in n_estimators:\n",
    "#             with mlflow.start_run():\n",
    "#                 mlflow.set_tags({\"Model\": \"random-forest-v2\", \"Train Data\": \"80%\"})\n",
    "                \n",
    "#                 mlflow.log_params({\n",
    "#                     'max_depth': depth, \n",
    "#                     'criterion': criterion,\n",
    "#                     'n_estimators': n_estimator\n",
    "#                 })\n",
    "                \n",
    "#                 rf = RandomForestClassifier(\n",
    "#                     max_depth=depth, \n",
    "#                     criterion=criterion,\n",
    "#                     n_estimators=n_estimator,\n",
    "#                     random_state=42\n",
    "#                 )\n",
    "#                 rf.fit(X_train, y_train)\n",
    "#                 y_pred = rf.predict(X_test)\n",
    "#                 acc = accuracy_score(y_test, y_pred)\n",
    "                \n",
    "#                 mlflow.log_metric('accuracy', acc)\n",
    "#             mlflow.end_run()"
   ]
  },
  {
   "cell_type": "markdown",
   "metadata": {},
   "source": [
    "### Staging the best model"
   ]
  },
  {
   "cell_type": "code",
   "execution_count": 31,
   "metadata": {},
   "outputs": [
    {
     "ename": "RestException",
     "evalue": "INVALID_PARAMETER_VALUE: Invalid clause(s) in filter string: 'OR'",
     "output_type": "error",
     "traceback": [
      "\u001b[31m---------------------------------------------------------------------------\u001b[39m",
      "\u001b[31mRestException\u001b[39m                             Traceback (most recent call last)",
      "\u001b[36mCell\u001b[39m\u001b[36m \u001b[39m\u001b[32mIn[31]\u001b[39m\u001b[32m, line 7\u001b[39m\n\u001b[32m      5\u001b[39m \u001b[38;5;66;03m# Get all runs from the experiment\u001b[39;00m\n\u001b[32m      6\u001b[39m experiment = mlflow.get_experiment_by_name(\u001b[33m\"\u001b[39m\u001b[33mlab5-GCP-iris-classification\u001b[39m\u001b[33m\"\u001b[39m)\n\u001b[32m----> \u001b[39m\u001b[32m7\u001b[39m runs = \u001b[43mmlflow\u001b[49m\u001b[43m.\u001b[49m\u001b[43msearch_runs\u001b[49m\u001b[43m(\u001b[49m\n\u001b[32m      8\u001b[39m \u001b[43m    \u001b[49m\u001b[43mexperiment_ids\u001b[49m\u001b[43m=\u001b[49m\u001b[43mexperiment\u001b[49m\u001b[43m.\u001b[49m\u001b[43mexperiment_id\u001b[49m\u001b[43m,\u001b[49m\n\u001b[32m      9\u001b[39m \u001b[43m    \u001b[49m\u001b[43mfilter_string\u001b[49m\u001b[43m=\u001b[49m\u001b[33;43m\"\u001b[39;49m\u001b[33;43mtags.Model = \u001b[39;49m\u001b[33;43m'\u001b[39;49m\u001b[33;43mdecision-tree\u001b[39;49m\u001b[33;43m'\u001b[39;49m\u001b[33;43m OR tags.Model = \u001b[39;49m\u001b[33;43m'\u001b[39;49m\u001b[33;43mknn\u001b[39;49m\u001b[33;43m'\u001b[39;49m\u001b[33;43m\"\u001b[39;49m\u001b[43m,\u001b[49m\n\u001b[32m     10\u001b[39m \u001b[43m    \u001b[49m\u001b[43mrun_view_type\u001b[49m\u001b[43m=\u001b[49m\u001b[43mViewType\u001b[49m\u001b[43m.\u001b[49m\u001b[43mACTIVE_ONLY\u001b[49m\u001b[43m,\u001b[49m\n\u001b[32m     11\u001b[39m \u001b[43m    \u001b[49m\u001b[43morder_by\u001b[49m\u001b[43m=\u001b[49m\u001b[43m[\u001b[49m\u001b[33;43m\"\u001b[39;49m\u001b[33;43mmetrics.accuracy DESC\u001b[39;49m\u001b[33;43m\"\u001b[39;49m\u001b[43m]\u001b[49m\n\u001b[32m     12\u001b[39m \u001b[43m)\u001b[49m\n\u001b[32m     14\u001b[39m \u001b[38;5;66;03m# Get the best run (first row in the sorted dataframe)\u001b[39;00m\n\u001b[32m     15\u001b[39m best_run = runs.iloc[\u001b[32m0\u001b[39m]\n",
      "\u001b[36mFile \u001b[39m\u001b[32m/opt/homebrew/anaconda3/envs/mlops/lib/python3.12/site-packages/mlflow/tracking/fluent.py:2021\u001b[39m, in \u001b[36msearch_runs\u001b[39m\u001b[34m(experiment_ids, filter_string, run_view_type, max_results, order_by, output_format, search_all_experiments, experiment_names)\u001b[39m\n\u001b[32m   2011\u001b[39m     \u001b[38;5;28;01mdef\u001b[39;00m\u001b[38;5;250m \u001b[39m\u001b[34mpagination_wrapper_func\u001b[39m(number_to_get, next_page_token):\n\u001b[32m   2012\u001b[39m         \u001b[38;5;28;01mreturn\u001b[39;00m MlflowClient().search_runs(\n\u001b[32m   2013\u001b[39m             experiment_ids,\n\u001b[32m   2014\u001b[39m             filter_string,\n\u001b[32m   (...)\u001b[39m\u001b[32m   2018\u001b[39m             next_page_token,\n\u001b[32m   2019\u001b[39m         )\n\u001b[32m-> \u001b[39m\u001b[32m2021\u001b[39m     runs = \u001b[43mget_results_from_paginated_fn\u001b[49m\u001b[43m(\u001b[49m\n\u001b[32m   2022\u001b[39m \u001b[43m        \u001b[49m\u001b[43mpagination_wrapper_func\u001b[49m\u001b[43m,\u001b[49m\n\u001b[32m   2023\u001b[39m \u001b[43m        \u001b[49m\u001b[43mNUM_RUNS_PER_PAGE_PANDAS\u001b[49m\u001b[43m,\u001b[49m\n\u001b[32m   2024\u001b[39m \u001b[43m        \u001b[49m\u001b[43mmax_results\u001b[49m\u001b[43m,\u001b[49m\n\u001b[32m   2025\u001b[39m \u001b[43m    \u001b[49m\u001b[43m)\u001b[49m\n\u001b[32m   2027\u001b[39m \u001b[38;5;28;01mif\u001b[39;00m output_format == \u001b[33m\"\u001b[39m\u001b[33mlist\u001b[39m\u001b[33m\"\u001b[39m:\n\u001b[32m   2028\u001b[39m     \u001b[38;5;28;01mreturn\u001b[39;00m runs  \u001b[38;5;66;03m# List[mlflow.entities.run.Run]\u001b[39;00m\n",
      "\u001b[36mFile \u001b[39m\u001b[32m/opt/homebrew/anaconda3/envs/mlops/lib/python3.12/site-packages/mlflow/utils/__init__.py:238\u001b[39m, in \u001b[36mget_results_from_paginated_fn\u001b[39m\u001b[34m(paginated_fn, max_results_per_page, max_results)\u001b[39m\n\u001b[32m    236\u001b[39m     page_results = paginated_fn(num_to_get, next_page_token)\n\u001b[32m    237\u001b[39m \u001b[38;5;28;01melse\u001b[39;00m:\n\u001b[32m--> \u001b[39m\u001b[32m238\u001b[39m     page_results = \u001b[43mpaginated_fn\u001b[49m\u001b[43m(\u001b[49m\u001b[43mmax_results_per_page\u001b[49m\u001b[43m,\u001b[49m\u001b[43m \u001b[49m\u001b[43mnext_page_token\u001b[49m\u001b[43m)\u001b[49m\n\u001b[32m    239\u001b[39m all_results.extend(page_results)\n\u001b[32m    240\u001b[39m \u001b[38;5;28;01mif\u001b[39;00m \u001b[38;5;28mhasattr\u001b[39m(page_results, \u001b[33m\"\u001b[39m\u001b[33mtoken\u001b[39m\u001b[33m\"\u001b[39m) \u001b[38;5;129;01mand\u001b[39;00m page_results.token:\n",
      "\u001b[36mFile \u001b[39m\u001b[32m/opt/homebrew/anaconda3/envs/mlops/lib/python3.12/site-packages/mlflow/tracking/fluent.py:2012\u001b[39m, in \u001b[36msearch_runs.<locals>.pagination_wrapper_func\u001b[39m\u001b[34m(number_to_get, next_page_token)\u001b[39m\n\u001b[32m   2011\u001b[39m \u001b[38;5;28;01mdef\u001b[39;00m\u001b[38;5;250m \u001b[39m\u001b[34mpagination_wrapper_func\u001b[39m(number_to_get, next_page_token):\n\u001b[32m-> \u001b[39m\u001b[32m2012\u001b[39m     \u001b[38;5;28;01mreturn\u001b[39;00m \u001b[43mMlflowClient\u001b[49m\u001b[43m(\u001b[49m\u001b[43m)\u001b[49m\u001b[43m.\u001b[49m\u001b[43msearch_runs\u001b[49m\u001b[43m(\u001b[49m\n\u001b[32m   2013\u001b[39m \u001b[43m        \u001b[49m\u001b[43mexperiment_ids\u001b[49m\u001b[43m,\u001b[49m\n\u001b[32m   2014\u001b[39m \u001b[43m        \u001b[49m\u001b[43mfilter_string\u001b[49m\u001b[43m,\u001b[49m\n\u001b[32m   2015\u001b[39m \u001b[43m        \u001b[49m\u001b[43mrun_view_type\u001b[49m\u001b[43m,\u001b[49m\n\u001b[32m   2016\u001b[39m \u001b[43m        \u001b[49m\u001b[43mnumber_to_get\u001b[49m\u001b[43m,\u001b[49m\n\u001b[32m   2017\u001b[39m \u001b[43m        \u001b[49m\u001b[43morder_by\u001b[49m\u001b[43m,\u001b[49m\n\u001b[32m   2018\u001b[39m \u001b[43m        \u001b[49m\u001b[43mnext_page_token\u001b[49m\u001b[43m,\u001b[49m\n\u001b[32m   2019\u001b[39m \u001b[43m    \u001b[49m\u001b[43m)\u001b[49m\n",
      "\u001b[36mFile \u001b[39m\u001b[32m/opt/homebrew/anaconda3/envs/mlops/lib/python3.12/site-packages/mlflow/tracking/client.py:3036\u001b[39m, in \u001b[36mMlflowClient.search_runs\u001b[39m\u001b[34m(self, experiment_ids, filter_string, run_view_type, max_results, order_by, page_token)\u001b[39m\n\u001b[32m   2947\u001b[39m \u001b[38;5;28;01mdef\u001b[39;00m\u001b[38;5;250m \u001b[39m\u001b[34msearch_runs\u001b[39m(\n\u001b[32m   2948\u001b[39m     \u001b[38;5;28mself\u001b[39m,\n\u001b[32m   2949\u001b[39m     experiment_ids: List[\u001b[38;5;28mstr\u001b[39m],\n\u001b[32m   (...)\u001b[39m\u001b[32m   2954\u001b[39m     page_token: Optional[\u001b[38;5;28mstr\u001b[39m] = \u001b[38;5;28;01mNone\u001b[39;00m,\n\u001b[32m   2955\u001b[39m ) -> PagedList[Run]:\n\u001b[32m   2956\u001b[39m \u001b[38;5;250m    \u001b[39m\u001b[33;03m\"\"\"\u001b[39;00m\n\u001b[32m   2957\u001b[39m \u001b[33;03m    Search for Runs that fit the specified criteria.\u001b[39;00m\n\u001b[32m   2958\u001b[39m \n\u001b[32m   (...)\u001b[39m\u001b[32m   3034\u001b[39m \u001b[33;03m        tags: {'s.release': '1.1.0-RC'}\u001b[39;00m\n\u001b[32m   3035\u001b[39m \u001b[33;03m    \"\"\"\u001b[39;00m\n\u001b[32m-> \u001b[39m\u001b[32m3036\u001b[39m     \u001b[38;5;28;01mreturn\u001b[39;00m \u001b[38;5;28;43mself\u001b[39;49m\u001b[43m.\u001b[49m\u001b[43m_tracking_client\u001b[49m\u001b[43m.\u001b[49m\u001b[43msearch_runs\u001b[49m\u001b[43m(\u001b[49m\n\u001b[32m   3037\u001b[39m \u001b[43m        \u001b[49m\u001b[43mexperiment_ids\u001b[49m\u001b[43m,\u001b[49m\u001b[43m \u001b[49m\u001b[43mfilter_string\u001b[49m\u001b[43m,\u001b[49m\u001b[43m \u001b[49m\u001b[43mrun_view_type\u001b[49m\u001b[43m,\u001b[49m\u001b[43m \u001b[49m\u001b[43mmax_results\u001b[49m\u001b[43m,\u001b[49m\u001b[43m \u001b[49m\u001b[43morder_by\u001b[49m\u001b[43m,\u001b[49m\u001b[43m \u001b[49m\u001b[43mpage_token\u001b[49m\n\u001b[32m   3038\u001b[39m \u001b[43m    \u001b[49m\u001b[43m)\u001b[49m\n",
      "\u001b[36mFile \u001b[39m\u001b[32m/opt/homebrew/anaconda3/envs/mlops/lib/python3.12/site-packages/mlflow/tracking/_tracking_service/client.py:961\u001b[39m, in \u001b[36mTrackingServiceClient.search_runs\u001b[39m\u001b[34m(self, experiment_ids, filter_string, run_view_type, max_results, order_by, page_token)\u001b[39m\n\u001b[32m    959\u001b[39m \u001b[38;5;28;01mif\u001b[39;00m \u001b[38;5;28misinstance\u001b[39m(experiment_ids, \u001b[38;5;28mint\u001b[39m) \u001b[38;5;129;01mor\u001b[39;00m is_string_type(experiment_ids):\n\u001b[32m    960\u001b[39m     experiment_ids = [experiment_ids]\n\u001b[32m--> \u001b[39m\u001b[32m961\u001b[39m \u001b[38;5;28;01mreturn\u001b[39;00m \u001b[38;5;28;43mself\u001b[39;49m\u001b[43m.\u001b[49m\u001b[43mstore\u001b[49m\u001b[43m.\u001b[49m\u001b[43msearch_runs\u001b[49m\u001b[43m(\u001b[49m\n\u001b[32m    962\u001b[39m \u001b[43m    \u001b[49m\u001b[43mexperiment_ids\u001b[49m\u001b[43m=\u001b[49m\u001b[43mexperiment_ids\u001b[49m\u001b[43m,\u001b[49m\n\u001b[32m    963\u001b[39m \u001b[43m    \u001b[49m\u001b[43mfilter_string\u001b[49m\u001b[43m=\u001b[49m\u001b[43mfilter_string\u001b[49m\u001b[43m,\u001b[49m\n\u001b[32m    964\u001b[39m \u001b[43m    \u001b[49m\u001b[43mrun_view_type\u001b[49m\u001b[43m=\u001b[49m\u001b[43mrun_view_type\u001b[49m\u001b[43m,\u001b[49m\n\u001b[32m    965\u001b[39m \u001b[43m    \u001b[49m\u001b[43mmax_results\u001b[49m\u001b[43m=\u001b[49m\u001b[43mmax_results\u001b[49m\u001b[43m,\u001b[49m\n\u001b[32m    966\u001b[39m \u001b[43m    \u001b[49m\u001b[43morder_by\u001b[49m\u001b[43m=\u001b[49m\u001b[43morder_by\u001b[49m\u001b[43m,\u001b[49m\n\u001b[32m    967\u001b[39m \u001b[43m    \u001b[49m\u001b[43mpage_token\u001b[49m\u001b[43m=\u001b[49m\u001b[43mpage_token\u001b[49m\u001b[43m,\u001b[49m\n\u001b[32m    968\u001b[39m \u001b[43m\u001b[49m\u001b[43m)\u001b[49m\n",
      "\u001b[36mFile \u001b[39m\u001b[32m/opt/homebrew/anaconda3/envs/mlops/lib/python3.12/site-packages/mlflow/store/tracking/abstract_store.py:548\u001b[39m, in \u001b[36mAbstractStore.search_runs\u001b[39m\u001b[34m(self, experiment_ids, filter_string, run_view_type, max_results, order_by, page_token)\u001b[39m\n\u001b[32m    519\u001b[39m \u001b[38;5;28;01mdef\u001b[39;00m\u001b[38;5;250m \u001b[39m\u001b[34msearch_runs\u001b[39m(\n\u001b[32m    520\u001b[39m     \u001b[38;5;28mself\u001b[39m,\n\u001b[32m    521\u001b[39m     experiment_ids,\n\u001b[32m   (...)\u001b[39m\u001b[32m    526\u001b[39m     page_token=\u001b[38;5;28;01mNone\u001b[39;00m,\n\u001b[32m    527\u001b[39m ):\n\u001b[32m    528\u001b[39m \u001b[38;5;250m    \u001b[39m\u001b[33;03m\"\"\"\u001b[39;00m\n\u001b[32m    529\u001b[39m \u001b[33;03m    Return runs that match the given list of search expressions within the experiments.\u001b[39;00m\n\u001b[32m    530\u001b[39m \n\u001b[32m   (...)\u001b[39m\u001b[32m    546\u001b[39m \u001b[33;03m        meaningful in such cases.\u001b[39;00m\n\u001b[32m    547\u001b[39m \u001b[33;03m    \"\"\"\u001b[39;00m\n\u001b[32m--> \u001b[39m\u001b[32m548\u001b[39m     runs, token = \u001b[38;5;28;43mself\u001b[39;49m\u001b[43m.\u001b[49m\u001b[43m_search_runs\u001b[49m\u001b[43m(\u001b[49m\n\u001b[32m    549\u001b[39m \u001b[43m        \u001b[49m\u001b[43mexperiment_ids\u001b[49m\u001b[43m,\u001b[49m\n\u001b[32m    550\u001b[39m \u001b[43m        \u001b[49m\u001b[43mfilter_string\u001b[49m\u001b[43m,\u001b[49m\n\u001b[32m    551\u001b[39m \u001b[43m        \u001b[49m\u001b[43mrun_view_type\u001b[49m\u001b[43m,\u001b[49m\n\u001b[32m    552\u001b[39m \u001b[43m        \u001b[49m\u001b[43mmax_results\u001b[49m\u001b[43m,\u001b[49m\n\u001b[32m    553\u001b[39m \u001b[43m        \u001b[49m\u001b[43morder_by\u001b[49m\u001b[43m,\u001b[49m\n\u001b[32m    554\u001b[39m \u001b[43m        \u001b[49m\u001b[43mpage_token\u001b[49m\u001b[43m,\u001b[49m\n\u001b[32m    555\u001b[39m \u001b[43m    \u001b[49m\u001b[43m)\u001b[49m\n\u001b[32m    556\u001b[39m     \u001b[38;5;28;01mreturn\u001b[39;00m PagedList(runs, token)\n",
      "\u001b[36mFile \u001b[39m\u001b[32m/opt/homebrew/anaconda3/envs/mlops/lib/python3.12/site-packages/mlflow/store/tracking/rest_store.py:499\u001b[39m, in \u001b[36mRestStore._search_runs\u001b[39m\u001b[34m(self, experiment_ids, filter_string, run_view_type, max_results, order_by, page_token)\u001b[39m\n\u001b[32m    490\u001b[39m sr = SearchRuns(\n\u001b[32m    491\u001b[39m     experiment_ids=experiment_ids,\n\u001b[32m    492\u001b[39m     \u001b[38;5;28mfilter\u001b[39m=filter_string,\n\u001b[32m   (...)\u001b[39m\u001b[32m    496\u001b[39m     page_token=page_token,\n\u001b[32m    497\u001b[39m )\n\u001b[32m    498\u001b[39m req_body = message_to_json(sr)\n\u001b[32m--> \u001b[39m\u001b[32m499\u001b[39m response_proto = \u001b[38;5;28;43mself\u001b[39;49m\u001b[43m.\u001b[49m\u001b[43m_call_endpoint\u001b[49m\u001b[43m(\u001b[49m\u001b[43mSearchRuns\u001b[49m\u001b[43m,\u001b[49m\u001b[43m \u001b[49m\u001b[43mreq_body\u001b[49m\u001b[43m)\u001b[49m\n\u001b[32m    500\u001b[39m runs = [Run.from_proto(proto_run) \u001b[38;5;28;01mfor\u001b[39;00m proto_run \u001b[38;5;129;01min\u001b[39;00m response_proto.runs]\n\u001b[32m    501\u001b[39m \u001b[38;5;66;03m# If next_page_token is not set, we will see it as \"\". We need to convert this to None.\u001b[39;00m\n",
      "\u001b[36mFile \u001b[39m\u001b[32m/opt/homebrew/anaconda3/envs/mlops/lib/python3.12/site-packages/mlflow/store/tracking/rest_store.py:81\u001b[39m, in \u001b[36mRestStore._call_endpoint\u001b[39m\u001b[34m(self, api, json_body, endpoint)\u001b[39m\n\u001b[32m     79\u001b[39m     endpoint, method = _METHOD_TO_INFO[api]\n\u001b[32m     80\u001b[39m response_proto = api.Response()\n\u001b[32m---> \u001b[39m\u001b[32m81\u001b[39m \u001b[38;5;28;01mreturn\u001b[39;00m \u001b[43mcall_endpoint\u001b[49m\u001b[43m(\u001b[49m\u001b[38;5;28;43mself\u001b[39;49m\u001b[43m.\u001b[49m\u001b[43mget_host_creds\u001b[49m\u001b[43m(\u001b[49m\u001b[43m)\u001b[49m\u001b[43m,\u001b[49m\u001b[43m \u001b[49m\u001b[43mendpoint\u001b[49m\u001b[43m,\u001b[49m\u001b[43m \u001b[49m\u001b[43mmethod\u001b[49m\u001b[43m,\u001b[49m\u001b[43m \u001b[49m\u001b[43mjson_body\u001b[49m\u001b[43m,\u001b[49m\u001b[43m \u001b[49m\u001b[43mresponse_proto\u001b[49m\u001b[43m)\u001b[49m\n",
      "\u001b[36mFile \u001b[39m\u001b[32m/opt/homebrew/anaconda3/envs/mlops/lib/python3.12/site-packages/mlflow/utils/rest_utils.py:362\u001b[39m, in \u001b[36mcall_endpoint\u001b[39m\u001b[34m(host_creds, endpoint, method, json_body, response_proto, extra_headers)\u001b[39m\n\u001b[32m    359\u001b[39m     call_kwargs[\u001b[33m\"\u001b[39m\u001b[33mjson\u001b[39m\u001b[33m\"\u001b[39m] = json_body\n\u001b[32m    360\u001b[39m     response = http_request(**call_kwargs)\n\u001b[32m--> \u001b[39m\u001b[32m362\u001b[39m response = \u001b[43mverify_rest_response\u001b[49m\u001b[43m(\u001b[49m\u001b[43mresponse\u001b[49m\u001b[43m,\u001b[49m\u001b[43m \u001b[49m\u001b[43mendpoint\u001b[49m\u001b[43m)\u001b[49m\n\u001b[32m    363\u001b[39m js_dict = json.loads(response.text)\n\u001b[32m    364\u001b[39m parse_dict(js_dict=js_dict, message=response_proto)\n",
      "\u001b[36mFile \u001b[39m\u001b[32m/opt/homebrew/anaconda3/envs/mlops/lib/python3.12/site-packages/mlflow/utils/rest_utils.py:232\u001b[39m, in \u001b[36mverify_rest_response\u001b[39m\u001b[34m(response, endpoint)\u001b[39m\n\u001b[32m    230\u001b[39m \u001b[38;5;28;01mif\u001b[39;00m response.status_code != \u001b[32m200\u001b[39m:\n\u001b[32m    231\u001b[39m     \u001b[38;5;28;01mif\u001b[39;00m _can_parse_as_json_object(response.text):\n\u001b[32m--> \u001b[39m\u001b[32m232\u001b[39m         \u001b[38;5;28;01mraise\u001b[39;00m RestException(json.loads(response.text))\n\u001b[32m    233\u001b[39m     \u001b[38;5;28;01melse\u001b[39;00m:\n\u001b[32m    234\u001b[39m         base_msg = (\n\u001b[32m    235\u001b[39m             \u001b[33mf\u001b[39m\u001b[33m\"\u001b[39m\u001b[33mAPI request to endpoint \u001b[39m\u001b[38;5;132;01m{\u001b[39;00mendpoint\u001b[38;5;132;01m}\u001b[39;00m\u001b[33m \u001b[39m\u001b[33m\"\u001b[39m\n\u001b[32m    236\u001b[39m             \u001b[33mf\u001b[39m\u001b[33m\"\u001b[39m\u001b[33mfailed with error code \u001b[39m\u001b[38;5;132;01m{\u001b[39;00mresponse.status_code\u001b[38;5;132;01m}\u001b[39;00m\u001b[33m != 200\u001b[39m\u001b[33m\"\u001b[39m\n\u001b[32m    237\u001b[39m         )\n",
      "\u001b[31mRestException\u001b[39m: INVALID_PARAMETER_VALUE: Invalid clause(s) in filter string: 'OR'"
     ]
    }
   ],
   "source": [
    "# Query MLflow to find the best model based on accuracy for Decision Trees and KNN\n",
    "import mlflow\n",
    "from mlflow.entities import ViewType\n",
    "\n",
    "# Get all runs from the experiment\n",
    "experiment = mlflow.get_experiment_by_name(\"lab5-GCP-iris-classification\")\n",
    "\n",
    "# The GCP MLflow server doesn't support 'OR' in filter_string\n",
    "# Get decision tree runs\n",
    "dt_runs = mlflow.search_runs(\n",
    "    experiment_ids=experiment.experiment_id,\n",
    "    filter_string=\"tags.Model = 'decision-tree'\",\n",
    "    run_view_type=ViewType.ACTIVE_ONLY,\n",
    "    order_by=[\"metrics.accuracy DESC\"]\n",
    ")\n",
    "\n",
    "# Get KNN runs\n",
    "knn_runs = mlflow.search_runs(\n",
    "    experiment_ids=experiment.experiment_id,\n",
    "    filter_string=\"tags.Model = 'knn'\",\n",
    "    run_view_type=ViewType.ACTIVE_ONLY,\n",
    "    order_by=[\"metrics.accuracy DESC\"]\n",
    ")\n",
    "\n",
    "# Combine and sort the runs\n",
    "runs = pd.concat([dt_runs, knn_runs]).sort_values(\"metrics.accuracy\", ascending=False)\n",
    "\n",
    "# Get the best run (first row in the sorted dataframe)\n",
    "best_run = runs.iloc[0]\n",
    "best_run_id = best_run.run_id\n",
    "best_accuracy = best_run[\"metrics.accuracy\"]\n",
    "best_model_type = best_run[\"tags.Model\"]\n",
    "\n",
    "# Create parameter dictionary based on model type\n",
    "best_model_params = {}\n",
    "if best_model_type == \"decision-tree\":\n",
    "    best_model_params = {\n",
    "        'max_depth': best_run[\"params.max_depth\"],\n",
    "        'criterion': best_run[\"params.criterion\"]\n",
    "    }\n",
    "elif best_model_type == \"knn\":\n",
    "    best_model_params = {\n",
    "        'n_neighbors': best_run[\"params.n_neighbors\"],\n",
    "        'weights': best_run[\"params.weights\"]\n",
    "    }\n",
    "\n",
    "print(f\"Best model type: {best_model_type}\")\n",
    "print(f\"Best model run ID: {best_run_id}\")\n",
    "print(f\"Best model accuracy: {best_accuracy:.4f}\")\n",
    "print(f\"Best model parameters: {best_model_params}\")\n",
    "\n",
    "# Register the best model in the MLflow Model Registry\n",
    "model_uri = f\"runs:/{best_run_id}/model\"\n",
    "model_name = \"iris_classifier\"\n",
    "\n",
    "# Register the model\n",
    "model_details = mlflow.register_model(model_uri=model_uri, name=model_name)\n",
    "\n",
    "# Transition the model to staging\n",
    "client = mlflow.tracking.MlflowClient()\n",
    "client.transition_model_version_stage(\n",
    "    name=model_name,\n",
    "    version=model_details.version,\n",
    "    stage=\"Staging\"\n",
    ")\n",
    "\n",
    "print(f\"Model {model_name} version {model_details.version} transitioned to Staging\")\n"
   ]
  },
  {
   "cell_type": "markdown",
   "metadata": {},
   "source": [
    "### Running it on the test set"
   ]
  },
  {
   "cell_type": "code",
   "execution_count": 32,
   "metadata": {},
   "outputs": [
    {
     "name": "stdout",
     "output_type": "stream",
     "text": [
      "Test set accuracy: 1.0000\n",
      "\n",
      "Classification Report:\n",
      "              precision    recall  f1-score   support\n",
      "\n",
      "     Class 0       1.00      1.00      1.00        12\n",
      "     Class 1       1.00      1.00      1.00         8\n",
      "     Class 2       1.00      1.00      1.00        10\n",
      "\n",
      "    accuracy                           1.00        30\n",
      "   macro avg       1.00      1.00      1.00        30\n",
      "weighted avg       1.00      1.00      1.00        30\n",
      "\n"
     ]
    }
   ],
   "source": [
    "# Recreate the model with the best parameters\n",
    "best_model = RandomForestClassifier(\n",
    "    max_depth=None if best_model_params['max_depth'] == 'None' else int(best_model_params['max_depth']), \n",
    "    criterion=best_model_params['criterion'],\n",
    "    n_estimators=int(best_model_params['n_estimators'])\n",
    ")\n",
    "best_model.fit(X_train, y_train)\n",
    "\n",
    "# Make predictions on the test set\n",
    "y_pred = best_model.predict(X_test)\n",
    "\n",
    "# Calculate accuracy on the test set\n",
    "test_accuracy = accuracy_score(y_test, y_pred)\n",
    "print(f\"Test set accuracy: {test_accuracy:.4f}\")\n",
    "\n",
    "# Log the test metrics to MLflow\n",
    "with mlflow.start_run(run_id=best_run_id):\n",
    "    mlflow.log_metric(\"test_accuracy\", test_accuracy)\n",
    "    \n",
    "    # Log classification report\n",
    "    from sklearn.metrics import classification_report\n",
    "    # Get unique target names from the dataset\n",
    "    target_names = [f\"Class {i}\" for i in sorted(y.unique())]\n",
    "    report = classification_report(y_test, y_pred, target_names=target_names)\n",
    "    mlflow.log_text(report, \"test_classification_report.txt\")\n",
    "    print(\"\\nClassification Report:\")\n",
    "    print(report)\n"
   ]
  },
  {
   "cell_type": "markdown",
   "metadata": {},
   "source": [
    "### Logging best models information"
   ]
  },
  {
   "cell_type": "code",
   "execution_count": 36,
   "metadata": {},
   "outputs": [
    {
     "data": {
      "text/html": [
       "<div>\n",
       "<style scoped>\n",
       "    .dataframe tbody tr th:only-of-type {\n",
       "        vertical-align: middle;\n",
       "    }\n",
       "\n",
       "    .dataframe tbody tr th {\n",
       "        vertical-align: top;\n",
       "    }\n",
       "\n",
       "    .dataframe thead th {\n",
       "        text-align: right;\n",
       "    }\n",
       "</style>\n",
       "<table border=\"1\" class=\"dataframe\">\n",
       "  <thead>\n",
       "    <tr style=\"text-align: right;\">\n",
       "      <th></th>\n",
       "      <th>run_id</th>\n",
       "      <th>experiment_id</th>\n",
       "      <th>status</th>\n",
       "      <th>artifact_uri</th>\n",
       "      <th>start_time</th>\n",
       "      <th>end_time</th>\n",
       "      <th>metrics.accuracy</th>\n",
       "      <th>params.max_depth</th>\n",
       "      <th>params.criterion</th>\n",
       "      <th>params.n_estimators</th>\n",
       "      <th>params.n_neighbors</th>\n",
       "      <th>params.weights</th>\n",
       "      <th>tags.Model</th>\n",
       "      <th>tags.mlflow.source.name</th>\n",
       "      <th>tags.mlflow.user</th>\n",
       "      <th>tags.Train Data</th>\n",
       "      <th>tags.mlflow.runName</th>\n",
       "      <th>tags.mlflow.source.type</th>\n",
       "    </tr>\n",
       "  </thead>\n",
       "  <tbody>\n",
       "    <tr>\n",
       "      <th>0</th>\n",
       "      <td>ca8000ef00014850b73d5bfe6e873dea</td>\n",
       "      <td>4</td>\n",
       "      <td>FINISHED</td>\n",
       "      <td>/Users/arturoavalos/Documents/MSDS/4mod/mlops/...</td>\n",
       "      <td>2025-03-25 00:17:25.020000+00:00</td>\n",
       "      <td>2025-03-25 00:17:25.103000+00:00</td>\n",
       "      <td>1.0</td>\n",
       "      <td>None</td>\n",
       "      <td>entropy</td>\n",
       "      <td>200</td>\n",
       "      <td>None</td>\n",
       "      <td>None</td>\n",
       "      <td>random-forest-v2</td>\n",
       "      <td>/opt/homebrew/anaconda3/envs/mlops/lib/python3...</td>\n",
       "      <td>arturoavalos</td>\n",
       "      <td>80%</td>\n",
       "      <td>orderly-steed-643</td>\n",
       "      <td>LOCAL</td>\n",
       "    </tr>\n",
       "    <tr>\n",
       "      <th>1</th>\n",
       "      <td>0b0fdd87c62d4f3b915d14d486152877</td>\n",
       "      <td>4</td>\n",
       "      <td>FINISHED</td>\n",
       "      <td>/Users/arturoavalos/Documents/MSDS/4mod/mlops/...</td>\n",
       "      <td>2025-03-25 00:17:24.947000+00:00</td>\n",
       "      <td>2025-03-25 00:17:24.973000+00:00</td>\n",
       "      <td>1.0</td>\n",
       "      <td>None</td>\n",
       "      <td>entropy</td>\n",
       "      <td>50</td>\n",
       "      <td>None</td>\n",
       "      <td>None</td>\n",
       "      <td>random-forest-v2</td>\n",
       "      <td>/opt/homebrew/anaconda3/envs/mlops/lib/python3...</td>\n",
       "      <td>arturoavalos</td>\n",
       "      <td>80%</td>\n",
       "      <td>respected-whale-174</td>\n",
       "      <td>LOCAL</td>\n",
       "    </tr>\n",
       "    <tr>\n",
       "      <th>2</th>\n",
       "      <td>04f690032ab840b6b260eaa47e8dc065</td>\n",
       "      <td>4</td>\n",
       "      <td>FINISHED</td>\n",
       "      <td>/Users/arturoavalos/Documents/MSDS/4mod/mlops/...</td>\n",
       "      <td>2025-03-25 00:17:24.863000+00:00</td>\n",
       "      <td>2025-03-25 00:17:24.945000+00:00</td>\n",
       "      <td>1.0</td>\n",
       "      <td>None</td>\n",
       "      <td>gini</td>\n",
       "      <td>200</td>\n",
       "      <td>None</td>\n",
       "      <td>None</td>\n",
       "      <td>random-forest-v2</td>\n",
       "      <td>/opt/homebrew/anaconda3/envs/mlops/lib/python3...</td>\n",
       "      <td>arturoavalos</td>\n",
       "      <td>80%</td>\n",
       "      <td>learned-pug-207</td>\n",
       "      <td>LOCAL</td>\n",
       "    </tr>\n",
       "  </tbody>\n",
       "</table>\n",
       "</div>"
      ],
      "text/plain": [
       "                             run_id experiment_id    status  \\\n",
       "0  ca8000ef00014850b73d5bfe6e873dea             4  FINISHED   \n",
       "1  0b0fdd87c62d4f3b915d14d486152877             4  FINISHED   \n",
       "2  04f690032ab840b6b260eaa47e8dc065             4  FINISHED   \n",
       "\n",
       "                                        artifact_uri  \\\n",
       "0  /Users/arturoavalos/Documents/MSDS/4mod/mlops/...   \n",
       "1  /Users/arturoavalos/Documents/MSDS/4mod/mlops/...   \n",
       "2  /Users/arturoavalos/Documents/MSDS/4mod/mlops/...   \n",
       "\n",
       "                        start_time                         end_time  \\\n",
       "0 2025-03-25 00:17:25.020000+00:00 2025-03-25 00:17:25.103000+00:00   \n",
       "1 2025-03-25 00:17:24.947000+00:00 2025-03-25 00:17:24.973000+00:00   \n",
       "2 2025-03-25 00:17:24.863000+00:00 2025-03-25 00:17:24.945000+00:00   \n",
       "\n",
       "   metrics.accuracy params.max_depth params.criterion params.n_estimators  \\\n",
       "0               1.0             None          entropy                 200   \n",
       "1               1.0             None          entropy                  50   \n",
       "2               1.0             None             gini                 200   \n",
       "\n",
       "  params.n_neighbors params.weights        tags.Model  \\\n",
       "0               None           None  random-forest-v2   \n",
       "1               None           None  random-forest-v2   \n",
       "2               None           None  random-forest-v2   \n",
       "\n",
       "                             tags.mlflow.source.name tags.mlflow.user  \\\n",
       "0  /opt/homebrew/anaconda3/envs/mlops/lib/python3...     arturoavalos   \n",
       "1  /opt/homebrew/anaconda3/envs/mlops/lib/python3...     arturoavalos   \n",
       "2  /opt/homebrew/anaconda3/envs/mlops/lib/python3...     arturoavalos   \n",
       "\n",
       "  tags.Train Data  tags.mlflow.runName tags.mlflow.source.type  \n",
       "0             80%    orderly-steed-643                   LOCAL  \n",
       "1             80%  respected-whale-174                   LOCAL  \n",
       "2             80%      learned-pug-207                   LOCAL  "
      ]
     },
     "execution_count": 36,
     "metadata": {},
     "output_type": "execute_result"
    }
   ],
   "source": [
    "top_runs"
   ]
  },
  {
   "cell_type": "code",
   "execution_count": 32,
   "metadata": {},
   "outputs": [
    {
     "name": "stdout",
     "output_type": "stream",
     "text": [
      "\n",
      "Best Model #1 (Run ID: c400db34608d42988951452fab846a3e):\n",
      "Training Accuracy: N/A\n",
      "Test Accuracy: Not yet evaluated\n",
      "\n",
      "Hyperparameters:\n",
      "  weights: distance\n",
      "  n_neighbors: 15\n"
     ]
    },
    {
     "name": "stderr",
     "output_type": "stream",
     "text": [
      "2025/04/15 15:12:41 INFO mlflow.tracking._tracking_service.client: 🏃 View run intrigued-eel-245 at: https://mlflow-server-525775795233.us-west2.run.app/#/experiments/1/runs/c400db34608d42988951452fab846a3e.\n",
      "2025/04/15 15:12:41 INFO mlflow.tracking._tracking_service.client: 🧪 View experiment at: https://mlflow-server-525775795233.us-west2.run.app/#/experiments/1.\n"
     ]
    },
    {
     "ename": "KeyboardInterrupt",
     "evalue": "",
     "output_type": "error",
     "traceback": [
      "\u001b[31m---------------------------------------------------------------------------\u001b[39m",
      "\u001b[31mKeyboardInterrupt\u001b[39m                         Traceback (most recent call last)",
      "\u001b[36mCell\u001b[39m\u001b[36m \u001b[39m\u001b[32mIn[32]\u001b[39m\u001b[32m, line 37\u001b[39m\n\u001b[32m     35\u001b[39m \u001b[38;5;28;01mtry\u001b[39;00m:\n\u001b[32m     36\u001b[39m     \u001b[38;5;28;01mwith\u001b[39;00m mlflow.start_run(run_id=run_id, nested=\u001b[38;5;28;01mTrue\u001b[39;00m):\n\u001b[32m---> \u001b[39m\u001b[32m37\u001b[39m         \u001b[43mmlflow\u001b[49m\u001b[43m.\u001b[49m\u001b[43mlog_dict\u001b[49m\u001b[43m(\u001b[49m\u001b[43m{\u001b[49m\n\u001b[32m     38\u001b[39m \u001b[43m            \u001b[49m\u001b[33;43m\"\u001b[39;49m\u001b[33;43mdataset_info\u001b[39;49m\u001b[33;43m\"\u001b[39;49m\u001b[43m:\u001b[49m\u001b[43m \u001b[49m\u001b[43m{\u001b[49m\n\u001b[32m     39\u001b[39m \u001b[43m                \u001b[49m\u001b[33;43m\"\u001b[39;49m\u001b[33;43mtraining_set_shape\u001b[39;49m\u001b[33;43m\"\u001b[39;49m\u001b[43m:\u001b[49m\u001b[43m \u001b[49m\u001b[43mX_train\u001b[49m\u001b[43m.\u001b[49m\u001b[43mshape\u001b[49m\u001b[43m,\u001b[49m\n\u001b[32m     40\u001b[39m \u001b[43m                \u001b[49m\u001b[33;43m\"\u001b[39;49m\u001b[33;43mtest_set_shape\u001b[39;49m\u001b[33;43m\"\u001b[39;49m\u001b[43m:\u001b[49m\u001b[43m \u001b[49m\u001b[43mX_test\u001b[49m\u001b[43m.\u001b[49m\u001b[43mshape\u001b[49m\u001b[43m,\u001b[49m\n\u001b[32m     41\u001b[39m \u001b[43m                \u001b[49m\u001b[33;43m\"\u001b[39;49m\u001b[33;43mtraining_samples\u001b[39;49m\u001b[33;43m\"\u001b[39;49m\u001b[43m:\u001b[49m\u001b[43m \u001b[49m\u001b[38;5;28;43mlen\u001b[39;49m\u001b[43m(\u001b[49m\u001b[43mX_train\u001b[49m\u001b[43m)\u001b[49m\u001b[43m,\u001b[49m\n\u001b[32m     42\u001b[39m \u001b[43m                \u001b[49m\u001b[33;43m\"\u001b[39;49m\u001b[33;43mtest_samples\u001b[39;49m\u001b[33;43m\"\u001b[39;49m\u001b[43m:\u001b[49m\u001b[43m \u001b[49m\u001b[38;5;28;43mlen\u001b[39;49m\u001b[43m(\u001b[49m\u001b[43mX_test\u001b[49m\u001b[43m)\u001b[49m\u001b[43m,\u001b[49m\n\u001b[32m     43\u001b[39m \u001b[43m                \u001b[49m\u001b[33;43m\"\u001b[39;49m\u001b[33;43mfeatures\u001b[39;49m\u001b[33;43m\"\u001b[39;49m\u001b[43m:\u001b[49m\u001b[43m \u001b[49m\u001b[38;5;28;43mlist\u001b[39;49m\u001b[43m(\u001b[49m\u001b[43mX\u001b[49m\u001b[43m.\u001b[49m\u001b[43mcolumns\u001b[49m\u001b[43m)\u001b[49m\u001b[43m,\u001b[49m\n\u001b[32m     44\u001b[39m \u001b[43m                \u001b[49m\u001b[33;43m\"\u001b[39;49m\u001b[33;43mtarget_classes\u001b[39;49m\u001b[33;43m\"\u001b[39;49m\u001b[43m:\u001b[49m\u001b[43m \u001b[49m\u001b[38;5;28;43msorted\u001b[39;49m\u001b[43m(\u001b[49m\u001b[43my\u001b[49m\u001b[43m.\u001b[49m\u001b[43munique\u001b[49m\u001b[43m(\u001b[49m\u001b[43m)\u001b[49m\u001b[43m.\u001b[49m\u001b[43mtolist\u001b[49m\u001b[43m(\u001b[49m\u001b[43m)\u001b[49m\u001b[43m)\u001b[49m\n\u001b[32m     45\u001b[39m \u001b[43m            \u001b[49m\u001b[43m}\u001b[49m\n\u001b[32m     46\u001b[39m \u001b[43m        \u001b[49m\u001b[43m}\u001b[49m\u001b[43m,\u001b[49m\u001b[43m \u001b[49m\u001b[33;43m\"\u001b[39;49m\u001b[33;43mdataset_info.json\u001b[39;49m\u001b[33;43m\"\u001b[39;49m\u001b[43m)\u001b[49m\n\u001b[32m     47\u001b[39m \u001b[38;5;28;01mexcept\u001b[39;00m \u001b[38;5;167;01mException\u001b[39;00m \u001b[38;5;28;01mas\u001b[39;00m e:\n\u001b[32m     48\u001b[39m     \u001b[38;5;28mprint\u001b[39m(\u001b[33mf\u001b[39m\u001b[33m\"\u001b[39m\u001b[33mCould not log dataset info for run \u001b[39m\u001b[38;5;132;01m{\u001b[39;00mrun_id\u001b[38;5;132;01m}\u001b[39;00m\u001b[33m: \u001b[39m\u001b[38;5;132;01m{\u001b[39;00m\u001b[38;5;28mstr\u001b[39m(e)\u001b[38;5;132;01m}\u001b[39;00m\u001b[33m\"\u001b[39m)\n",
      "\u001b[36mFile \u001b[39m\u001b[32m/opt/homebrew/anaconda3/envs/mlops/lib/python3.12/site-packages/mlflow/tracking/fluent.py:1214\u001b[39m, in \u001b[36mlog_dict\u001b[39m\u001b[34m(dictionary, artifact_file, run_id)\u001b[39m\n\u001b[32m   1181\u001b[39m \u001b[38;5;250m\u001b[39m\u001b[33;03m\"\"\"\u001b[39;00m\n\u001b[32m   1182\u001b[39m \u001b[33;03mLog a JSON/YAML-serializable object (e.g. `dict`) as an artifact. The serialization\u001b[39;00m\n\u001b[32m   1183\u001b[39m \u001b[33;03mformat (JSON or YAML) is automatically inferred from the extension of `artifact_file`.\u001b[39;00m\n\u001b[32m   (...)\u001b[39m\u001b[32m   1211\u001b[39m \n\u001b[32m   1212\u001b[39m \u001b[33;03m\"\"\"\u001b[39;00m\n\u001b[32m   1213\u001b[39m run_id = run_id \u001b[38;5;129;01mor\u001b[39;00m _get_or_start_run().info.run_id\n\u001b[32m-> \u001b[39m\u001b[32m1214\u001b[39m \u001b[43mMlflowClient\u001b[49m\u001b[43m(\u001b[49m\u001b[43m)\u001b[49m\u001b[43m.\u001b[49m\u001b[43mlog_dict\u001b[49m\u001b[43m(\u001b[49m\u001b[43mrun_id\u001b[49m\u001b[43m,\u001b[49m\u001b[43m \u001b[49m\u001b[43mdictionary\u001b[49m\u001b[43m,\u001b[49m\u001b[43m \u001b[49m\u001b[43martifact_file\u001b[49m\u001b[43m)\u001b[49m\n",
      "\u001b[36mFile \u001b[39m\u001b[32m/opt/homebrew/anaconda3/envs/mlops/lib/python3.12/site-packages/mlflow/tracking/client.py:2070\u001b[39m, in \u001b[36mMlflowClient.log_dict\u001b[39m\u001b[34m(self, run_id, dictionary, artifact_file)\u001b[39m\n\u001b[32m   2034\u001b[39m \u001b[38;5;250m\u001b[39m\u001b[33;03m\"\"\"Log a JSON/YAML-serializable object (e.g. `dict`) as an artifact. The serialization\u001b[39;00m\n\u001b[32m   2035\u001b[39m \u001b[33;03mformat (JSON or YAML) is automatically inferred from the extension of `artifact_file`.\u001b[39;00m\n\u001b[32m   2036\u001b[39m \u001b[33;03mIf the file extension doesn't exist or match any of [\".json\", \".yml\", \".yaml\"],\u001b[39;00m\n\u001b[32m   (...)\u001b[39m\u001b[32m   2066\u001b[39m \n\u001b[32m   2067\u001b[39m \u001b[33;03m\"\"\"\u001b[39;00m\n\u001b[32m   2068\u001b[39m extension = os.path.splitext(artifact_file)[\u001b[32m1\u001b[39m]\n\u001b[32m-> \u001b[39m\u001b[32m2070\u001b[39m \u001b[43m\u001b[49m\u001b[38;5;28;43;01mwith\u001b[39;49;00m\u001b[43m \u001b[49m\u001b[38;5;28;43mself\u001b[39;49m\u001b[43m.\u001b[49m\u001b[43m_log_artifact_helper\u001b[49m\u001b[43m(\u001b[49m\u001b[43mrun_id\u001b[49m\u001b[43m,\u001b[49m\u001b[43m \u001b[49m\u001b[43martifact_file\u001b[49m\u001b[43m)\u001b[49m\u001b[43m \u001b[49m\u001b[38;5;28;43;01mas\u001b[39;49;00m\u001b[43m \u001b[49m\u001b[43mtmp_path\u001b[49m\u001b[43m:\u001b[49m\n\u001b[32m   2071\u001b[39m \u001b[43m    \u001b[49m\u001b[38;5;28;43;01mwith\u001b[39;49;00m\u001b[43m \u001b[49m\u001b[38;5;28;43mopen\u001b[39;49m\u001b[43m(\u001b[49m\u001b[43mtmp_path\u001b[49m\u001b[43m,\u001b[49m\u001b[43m \u001b[49m\u001b[33;43m\"\u001b[39;49m\u001b[33;43mw\u001b[39;49m\u001b[33;43m\"\u001b[39;49m\u001b[43m)\u001b[49m\u001b[43m \u001b[49m\u001b[38;5;28;43;01mas\u001b[39;49;00m\u001b[43m \u001b[49m\u001b[43mf\u001b[49m\u001b[43m:\u001b[49m\n\u001b[32m   2072\u001b[39m \u001b[43m        \u001b[49m\u001b[38;5;66;43;03m# Specify `indent` to prettify the output\u001b[39;49;00m\n\u001b[32m   2073\u001b[39m \u001b[43m        \u001b[49m\u001b[38;5;28;43;01mif\u001b[39;49;00m\u001b[43m \u001b[49m\u001b[43mextension\u001b[49m\u001b[43m \u001b[49m\u001b[38;5;129;43;01min\u001b[39;49;00m\u001b[43m \u001b[49m\u001b[43m[\u001b[49m\u001b[33;43m\"\u001b[39;49m\u001b[33;43m.yml\u001b[39;49m\u001b[33;43m\"\u001b[39;49m\u001b[43m,\u001b[49m\u001b[43m \u001b[49m\u001b[33;43m\"\u001b[39;49m\u001b[33;43m.yaml\u001b[39;49m\u001b[33;43m\"\u001b[39;49m\u001b[43m]\u001b[49m\u001b[43m:\u001b[49m\n",
      "\u001b[36mFile \u001b[39m\u001b[32m/opt/homebrew/anaconda3/envs/mlops/lib/python3.12/contextlib.py:144\u001b[39m, in \u001b[36m_GeneratorContextManager.__exit__\u001b[39m\u001b[34m(self, typ, value, traceback)\u001b[39m\n\u001b[32m    142\u001b[39m \u001b[38;5;28;01mif\u001b[39;00m typ \u001b[38;5;129;01mis\u001b[39;00m \u001b[38;5;28;01mNone\u001b[39;00m:\n\u001b[32m    143\u001b[39m     \u001b[38;5;28;01mtry\u001b[39;00m:\n\u001b[32m--> \u001b[39m\u001b[32m144\u001b[39m         \u001b[38;5;28;43mnext\u001b[39;49m\u001b[43m(\u001b[49m\u001b[38;5;28;43mself\u001b[39;49m\u001b[43m.\u001b[49m\u001b[43mgen\u001b[49m\u001b[43m)\u001b[49m\n\u001b[32m    145\u001b[39m     \u001b[38;5;28;01mexcept\u001b[39;00m \u001b[38;5;167;01mStopIteration\u001b[39;00m:\n\u001b[32m    146\u001b[39m         \u001b[38;5;28;01mreturn\u001b[39;00m \u001b[38;5;28;01mFalse\u001b[39;00m\n",
      "\u001b[36mFile \u001b[39m\u001b[32m/opt/homebrew/anaconda3/envs/mlops/lib/python3.12/site-packages/mlflow/tracking/client.py:1983\u001b[39m, in \u001b[36mMlflowClient._log_artifact_helper\u001b[39m\u001b[34m(self, run_id, artifact_file)\u001b[39m\n\u001b[32m   1981\u001b[39m tmp_path = os.path.join(tmp_dir, filename)\n\u001b[32m   1982\u001b[39m \u001b[38;5;28;01myield\u001b[39;00m tmp_path\n\u001b[32m-> \u001b[39m\u001b[32m1983\u001b[39m \u001b[38;5;28;43mself\u001b[39;49m\u001b[43m.\u001b[49m\u001b[43mlog_artifact\u001b[49m\u001b[43m(\u001b[49m\u001b[43mrun_id\u001b[49m\u001b[43m,\u001b[49m\u001b[43m \u001b[49m\u001b[43mtmp_path\u001b[49m\u001b[43m,\u001b[49m\u001b[43m \u001b[49m\u001b[43martifact_dir\u001b[49m\u001b[43m)\u001b[49m\n",
      "\u001b[36mFile \u001b[39m\u001b[32m/opt/homebrew/anaconda3/envs/mlops/lib/python3.12/site-packages/mlflow/tracking/client.py:1914\u001b[39m, in \u001b[36mMlflowClient.log_artifact\u001b[39m\u001b[34m(self, run_id, local_path, artifact_path)\u001b[39m\n\u001b[32m   1910\u001b[39m \u001b[38;5;28;01mif\u001b[39;00m run_id.startswith(TRACE_REQUEST_ID_PREFIX):\n\u001b[32m   1911\u001b[39m     \u001b[38;5;28;01mraise\u001b[39;00m MlflowException(\n\u001b[32m   1912\u001b[39m         \u001b[33mf\u001b[39m\u001b[33m\"\u001b[39m\u001b[33mInvalid run id: \u001b[39m\u001b[38;5;132;01m{\u001b[39;00mrun_id\u001b[38;5;132;01m}\u001b[39;00m\u001b[33m. `log_artifact` run id must map to a valid run.\u001b[39m\u001b[33m\"\u001b[39m\n\u001b[32m   1913\u001b[39m     )\n\u001b[32m-> \u001b[39m\u001b[32m1914\u001b[39m \u001b[38;5;28;43mself\u001b[39;49m\u001b[43m.\u001b[49m\u001b[43m_tracking_client\u001b[49m\u001b[43m.\u001b[49m\u001b[43mlog_artifact\u001b[49m\u001b[43m(\u001b[49m\u001b[43mrun_id\u001b[49m\u001b[43m,\u001b[49m\u001b[43m \u001b[49m\u001b[43mlocal_path\u001b[49m\u001b[43m,\u001b[49m\u001b[43m \u001b[49m\u001b[43martifact_path\u001b[49m\u001b[43m)\u001b[49m\n",
      "\u001b[36mFile \u001b[39m\u001b[32m/opt/homebrew/anaconda3/envs/mlops/lib/python3.12/site-packages/mlflow/tracking/_tracking_service/client.py:812\u001b[39m, in \u001b[36mTrackingServiceClient.log_artifact\u001b[39m\u001b[34m(self, run_id, local_path, artifact_path)\u001b[39m\n\u001b[32m    810\u001b[39m     artifact_repo.log_artifacts(local_path, path_name)\n\u001b[32m    811\u001b[39m \u001b[38;5;28;01melse\u001b[39;00m:\n\u001b[32m--> \u001b[39m\u001b[32m812\u001b[39m     \u001b[43martifact_repo\u001b[49m\u001b[43m.\u001b[49m\u001b[43mlog_artifact\u001b[49m\u001b[43m(\u001b[49m\u001b[43mlocal_path\u001b[49m\u001b[43m,\u001b[49m\u001b[43m \u001b[49m\u001b[43martifact_path\u001b[49m\u001b[43m)\u001b[49m\n",
      "\u001b[36mFile \u001b[39m\u001b[32m/opt/homebrew/anaconda3/envs/mlops/lib/python3.12/site-packages/mlflow/store/artifact/http_artifact_repo.py:63\u001b[39m, in \u001b[36mHttpArtifactRepository.log_artifact\u001b[39m\u001b[34m(self, local_file, artifact_path)\u001b[39m\n\u001b[32m     61\u001b[39m extra_headers = {\u001b[33m\"\u001b[39m\u001b[33mContent-Type\u001b[39m\u001b[33m\"\u001b[39m: mime_type}\n\u001b[32m     62\u001b[39m \u001b[38;5;28;01mwith\u001b[39;00m \u001b[38;5;28mopen\u001b[39m(local_file, \u001b[33m\"\u001b[39m\u001b[33mrb\u001b[39m\u001b[33m\"\u001b[39m) \u001b[38;5;28;01mas\u001b[39;00m f:\n\u001b[32m---> \u001b[39m\u001b[32m63\u001b[39m     resp = \u001b[43mhttp_request\u001b[49m\u001b[43m(\u001b[49m\n\u001b[32m     64\u001b[39m \u001b[43m        \u001b[49m\u001b[38;5;28;43mself\u001b[39;49m\u001b[43m.\u001b[49m\u001b[43m_host_creds\u001b[49m\u001b[43m,\u001b[49m\u001b[43m \u001b[49m\u001b[43mendpoint\u001b[49m\u001b[43m,\u001b[49m\u001b[43m \u001b[49m\u001b[33;43m\"\u001b[39;49m\u001b[33;43mPUT\u001b[39;49m\u001b[33;43m\"\u001b[39;49m\u001b[43m,\u001b[49m\u001b[43m \u001b[49m\u001b[43mdata\u001b[49m\u001b[43m=\u001b[49m\u001b[43mf\u001b[49m\u001b[43m,\u001b[49m\u001b[43m \u001b[49m\u001b[43mextra_headers\u001b[49m\u001b[43m=\u001b[49m\u001b[43mextra_headers\u001b[49m\n\u001b[32m     65\u001b[39m \u001b[43m    \u001b[49m\u001b[43m)\u001b[49m\n\u001b[32m     66\u001b[39m     augmented_raise_for_status(resp)\n",
      "\u001b[36mFile \u001b[39m\u001b[32m/opt/homebrew/anaconda3/envs/mlops/lib/python3.12/site-packages/mlflow/utils/rest_utils.py:187\u001b[39m, in \u001b[36mhttp_request\u001b[39m\u001b[34m(host_creds, endpoint, method, max_retries, backoff_factor, backoff_jitter, extra_headers, retry_codes, timeout, raise_on_status, respect_retry_after_header, **kwargs)\u001b[39m\n\u001b[32m    184\u001b[39m     kwargs[\u001b[33m\"\u001b[39m\u001b[33mauth\u001b[39m\u001b[33m\"\u001b[39m] = fetch_auth(host_creds.auth)\n\u001b[32m    186\u001b[39m \u001b[38;5;28;01mtry\u001b[39;00m:\n\u001b[32m--> \u001b[39m\u001b[32m187\u001b[39m     \u001b[38;5;28;01mreturn\u001b[39;00m \u001b[43m_get_http_response_with_retries\u001b[49m\u001b[43m(\u001b[49m\n\u001b[32m    188\u001b[39m \u001b[43m        \u001b[49m\u001b[43mmethod\u001b[49m\u001b[43m,\u001b[49m\n\u001b[32m    189\u001b[39m \u001b[43m        \u001b[49m\u001b[43murl\u001b[49m\u001b[43m,\u001b[49m\n\u001b[32m    190\u001b[39m \u001b[43m        \u001b[49m\u001b[43mmax_retries\u001b[49m\u001b[43m,\u001b[49m\n\u001b[32m    191\u001b[39m \u001b[43m        \u001b[49m\u001b[43mbackoff_factor\u001b[49m\u001b[43m,\u001b[49m\n\u001b[32m    192\u001b[39m \u001b[43m        \u001b[49m\u001b[43mbackoff_jitter\u001b[49m\u001b[43m,\u001b[49m\n\u001b[32m    193\u001b[39m \u001b[43m        \u001b[49m\u001b[43mretry_codes\u001b[49m\u001b[43m,\u001b[49m\n\u001b[32m    194\u001b[39m \u001b[43m        \u001b[49m\u001b[43mraise_on_status\u001b[49m\u001b[43m,\u001b[49m\n\u001b[32m    195\u001b[39m \u001b[43m        \u001b[49m\u001b[43mheaders\u001b[49m\u001b[43m=\u001b[49m\u001b[43mheaders\u001b[49m\u001b[43m,\u001b[49m\n\u001b[32m    196\u001b[39m \u001b[43m        \u001b[49m\u001b[43mverify\u001b[49m\u001b[43m=\u001b[49m\u001b[43mhost_creds\u001b[49m\u001b[43m.\u001b[49m\u001b[43mverify\u001b[49m\u001b[43m,\u001b[49m\n\u001b[32m    197\u001b[39m \u001b[43m        \u001b[49m\u001b[43mtimeout\u001b[49m\u001b[43m=\u001b[49m\u001b[43mtimeout\u001b[49m\u001b[43m,\u001b[49m\n\u001b[32m    198\u001b[39m \u001b[43m        \u001b[49m\u001b[43mrespect_retry_after_header\u001b[49m\u001b[43m=\u001b[49m\u001b[43mrespect_retry_after_header\u001b[49m\u001b[43m,\u001b[49m\n\u001b[32m    199\u001b[39m \u001b[43m        \u001b[49m\u001b[43m*\u001b[49m\u001b[43m*\u001b[49m\u001b[43mkwargs\u001b[49m\u001b[43m,\u001b[49m\n\u001b[32m    200\u001b[39m \u001b[43m    \u001b[49m\u001b[43m)\u001b[49m\n\u001b[32m    201\u001b[39m \u001b[38;5;28;01mexcept\u001b[39;00m requests.exceptions.Timeout \u001b[38;5;28;01mas\u001b[39;00m to:\n\u001b[32m    202\u001b[39m     \u001b[38;5;28;01mraise\u001b[39;00m MlflowException(\n\u001b[32m    203\u001b[39m         \u001b[33mf\u001b[39m\u001b[33m\"\u001b[39m\u001b[33mAPI request to \u001b[39m\u001b[38;5;132;01m{\u001b[39;00murl\u001b[38;5;132;01m}\u001b[39;00m\u001b[33m failed with timeout exception \u001b[39m\u001b[38;5;132;01m{\u001b[39;00mto\u001b[38;5;132;01m}\u001b[39;00m\u001b[33m.\u001b[39m\u001b[33m\"\u001b[39m\n\u001b[32m    204\u001b[39m         \u001b[33m\"\u001b[39m\u001b[33m To increase the timeout, set the environment variable \u001b[39m\u001b[33m\"\u001b[39m\n\u001b[32m    205\u001b[39m         \u001b[33mf\u001b[39m\u001b[33m\"\u001b[39m\u001b[38;5;132;01m{\u001b[39;00mMLFLOW_HTTP_REQUEST_TIMEOUT\u001b[38;5;132;01m!s}\u001b[39;00m\u001b[33m to a larger value.\u001b[39m\u001b[33m\"\u001b[39m\n\u001b[32m    206\u001b[39m     ) \u001b[38;5;28;01mfrom\u001b[39;00m\u001b[38;5;250m \u001b[39m\u001b[34;01mto\u001b[39;00m\n",
      "\u001b[36mFile \u001b[39m\u001b[32m/opt/homebrew/anaconda3/envs/mlops/lib/python3.12/site-packages/mlflow/utils/request_utils.py:237\u001b[39m, in \u001b[36m_get_http_response_with_retries\u001b[39m\u001b[34m(method, url, max_retries, backoff_factor, backoff_jitter, retry_codes, raise_on_status, allow_redirects, respect_retry_after_header, **kwargs)\u001b[39m\n\u001b[32m    234\u001b[39m env_value = os.getenv(\u001b[33m\"\u001b[39m\u001b[33mMLFLOW_ALLOW_HTTP_REDIRECTS\u001b[39m\u001b[33m\"\u001b[39m, \u001b[33m\"\u001b[39m\u001b[33mtrue\u001b[39m\u001b[33m\"\u001b[39m).lower() \u001b[38;5;129;01min\u001b[39;00m [\u001b[33m\"\u001b[39m\u001b[33mtrue\u001b[39m\u001b[33m\"\u001b[39m, \u001b[33m\"\u001b[39m\u001b[33m1\u001b[39m\u001b[33m\"\u001b[39m]\n\u001b[32m    235\u001b[39m allow_redirects = env_value \u001b[38;5;28;01mif\u001b[39;00m allow_redirects \u001b[38;5;129;01mis\u001b[39;00m \u001b[38;5;28;01mNone\u001b[39;00m \u001b[38;5;28;01melse\u001b[39;00m allow_redirects\n\u001b[32m--> \u001b[39m\u001b[32m237\u001b[39m \u001b[38;5;28;01mreturn\u001b[39;00m \u001b[43msession\u001b[49m\u001b[43m.\u001b[49m\u001b[43mrequest\u001b[49m\u001b[43m(\u001b[49m\u001b[43mmethod\u001b[49m\u001b[43m,\u001b[49m\u001b[43m \u001b[49m\u001b[43murl\u001b[49m\u001b[43m,\u001b[49m\u001b[43m \u001b[49m\u001b[43mallow_redirects\u001b[49m\u001b[43m=\u001b[49m\u001b[43mallow_redirects\u001b[49m\u001b[43m,\u001b[49m\u001b[43m \u001b[49m\u001b[43m*\u001b[49m\u001b[43m*\u001b[49m\u001b[43mkwargs\u001b[49m\u001b[43m)\u001b[49m\n",
      "\u001b[36mFile \u001b[39m\u001b[32m/opt/homebrew/anaconda3/envs/mlops/lib/python3.12/site-packages/requests/sessions.py:589\u001b[39m, in \u001b[36mSession.request\u001b[39m\u001b[34m(self, method, url, params, data, headers, cookies, files, auth, timeout, allow_redirects, proxies, hooks, stream, verify, cert, json)\u001b[39m\n\u001b[32m    584\u001b[39m send_kwargs = {\n\u001b[32m    585\u001b[39m     \u001b[33m\"\u001b[39m\u001b[33mtimeout\u001b[39m\u001b[33m\"\u001b[39m: timeout,\n\u001b[32m    586\u001b[39m     \u001b[33m\"\u001b[39m\u001b[33mallow_redirects\u001b[39m\u001b[33m\"\u001b[39m: allow_redirects,\n\u001b[32m    587\u001b[39m }\n\u001b[32m    588\u001b[39m send_kwargs.update(settings)\n\u001b[32m--> \u001b[39m\u001b[32m589\u001b[39m resp = \u001b[38;5;28;43mself\u001b[39;49m\u001b[43m.\u001b[49m\u001b[43msend\u001b[49m\u001b[43m(\u001b[49m\u001b[43mprep\u001b[49m\u001b[43m,\u001b[49m\u001b[43m \u001b[49m\u001b[43m*\u001b[49m\u001b[43m*\u001b[49m\u001b[43msend_kwargs\u001b[49m\u001b[43m)\u001b[49m\n\u001b[32m    591\u001b[39m \u001b[38;5;28;01mreturn\u001b[39;00m resp\n",
      "\u001b[36mFile \u001b[39m\u001b[32m/opt/homebrew/anaconda3/envs/mlops/lib/python3.12/site-packages/requests/sessions.py:703\u001b[39m, in \u001b[36mSession.send\u001b[39m\u001b[34m(self, request, **kwargs)\u001b[39m\n\u001b[32m    700\u001b[39m start = preferred_clock()\n\u001b[32m    702\u001b[39m \u001b[38;5;66;03m# Send the request\u001b[39;00m\n\u001b[32m--> \u001b[39m\u001b[32m703\u001b[39m r = \u001b[43madapter\u001b[49m\u001b[43m.\u001b[49m\u001b[43msend\u001b[49m\u001b[43m(\u001b[49m\u001b[43mrequest\u001b[49m\u001b[43m,\u001b[49m\u001b[43m \u001b[49m\u001b[43m*\u001b[49m\u001b[43m*\u001b[49m\u001b[43mkwargs\u001b[49m\u001b[43m)\u001b[49m\n\u001b[32m    705\u001b[39m \u001b[38;5;66;03m# Total elapsed time of the request (approximately)\u001b[39;00m\n\u001b[32m    706\u001b[39m elapsed = preferred_clock() - start\n",
      "\u001b[36mFile \u001b[39m\u001b[32m/opt/homebrew/anaconda3/envs/mlops/lib/python3.12/site-packages/requests/adapters.py:667\u001b[39m, in \u001b[36mHTTPAdapter.send\u001b[39m\u001b[34m(self, request, stream, timeout, verify, cert, proxies)\u001b[39m\n\u001b[32m    664\u001b[39m     timeout = TimeoutSauce(connect=timeout, read=timeout)\n\u001b[32m    666\u001b[39m \u001b[38;5;28;01mtry\u001b[39;00m:\n\u001b[32m--> \u001b[39m\u001b[32m667\u001b[39m     resp = \u001b[43mconn\u001b[49m\u001b[43m.\u001b[49m\u001b[43murlopen\u001b[49m\u001b[43m(\u001b[49m\n\u001b[32m    668\u001b[39m \u001b[43m        \u001b[49m\u001b[43mmethod\u001b[49m\u001b[43m=\u001b[49m\u001b[43mrequest\u001b[49m\u001b[43m.\u001b[49m\u001b[43mmethod\u001b[49m\u001b[43m,\u001b[49m\n\u001b[32m    669\u001b[39m \u001b[43m        \u001b[49m\u001b[43murl\u001b[49m\u001b[43m=\u001b[49m\u001b[43murl\u001b[49m\u001b[43m,\u001b[49m\n\u001b[32m    670\u001b[39m \u001b[43m        \u001b[49m\u001b[43mbody\u001b[49m\u001b[43m=\u001b[49m\u001b[43mrequest\u001b[49m\u001b[43m.\u001b[49m\u001b[43mbody\u001b[49m\u001b[43m,\u001b[49m\n\u001b[32m    671\u001b[39m \u001b[43m        \u001b[49m\u001b[43mheaders\u001b[49m\u001b[43m=\u001b[49m\u001b[43mrequest\u001b[49m\u001b[43m.\u001b[49m\u001b[43mheaders\u001b[49m\u001b[43m,\u001b[49m\n\u001b[32m    672\u001b[39m \u001b[43m        \u001b[49m\u001b[43mredirect\u001b[49m\u001b[43m=\u001b[49m\u001b[38;5;28;43;01mFalse\u001b[39;49;00m\u001b[43m,\u001b[49m\n\u001b[32m    673\u001b[39m \u001b[43m        \u001b[49m\u001b[43massert_same_host\u001b[49m\u001b[43m=\u001b[49m\u001b[38;5;28;43;01mFalse\u001b[39;49;00m\u001b[43m,\u001b[49m\n\u001b[32m    674\u001b[39m \u001b[43m        \u001b[49m\u001b[43mpreload_content\u001b[49m\u001b[43m=\u001b[49m\u001b[38;5;28;43;01mFalse\u001b[39;49;00m\u001b[43m,\u001b[49m\n\u001b[32m    675\u001b[39m \u001b[43m        \u001b[49m\u001b[43mdecode_content\u001b[49m\u001b[43m=\u001b[49m\u001b[38;5;28;43;01mFalse\u001b[39;49;00m\u001b[43m,\u001b[49m\n\u001b[32m    676\u001b[39m \u001b[43m        \u001b[49m\u001b[43mretries\u001b[49m\u001b[43m=\u001b[49m\u001b[38;5;28;43mself\u001b[39;49m\u001b[43m.\u001b[49m\u001b[43mmax_retries\u001b[49m\u001b[43m,\u001b[49m\n\u001b[32m    677\u001b[39m \u001b[43m        \u001b[49m\u001b[43mtimeout\u001b[49m\u001b[43m=\u001b[49m\u001b[43mtimeout\u001b[49m\u001b[43m,\u001b[49m\n\u001b[32m    678\u001b[39m \u001b[43m        \u001b[49m\u001b[43mchunked\u001b[49m\u001b[43m=\u001b[49m\u001b[43mchunked\u001b[49m\u001b[43m,\u001b[49m\n\u001b[32m    679\u001b[39m \u001b[43m    \u001b[49m\u001b[43m)\u001b[49m\n\u001b[32m    681\u001b[39m \u001b[38;5;28;01mexcept\u001b[39;00m (ProtocolError, \u001b[38;5;167;01mOSError\u001b[39;00m) \u001b[38;5;28;01mas\u001b[39;00m err:\n\u001b[32m    682\u001b[39m     \u001b[38;5;28;01mraise\u001b[39;00m \u001b[38;5;167;01mConnectionError\u001b[39;00m(err, request=request)\n",
      "\u001b[36mFile \u001b[39m\u001b[32m/opt/homebrew/anaconda3/envs/mlops/lib/python3.12/site-packages/urllib3/connectionpool.py:942\u001b[39m, in \u001b[36mHTTPConnectionPool.urlopen\u001b[39m\u001b[34m(self, method, url, body, headers, retries, redirect, assert_same_host, timeout, pool_timeout, release_conn, chunked, body_pos, preload_content, decode_content, **response_kw)\u001b[39m\n\u001b[32m    940\u001b[39m     retries.sleep(response)\n\u001b[32m    941\u001b[39m     log.debug(\u001b[33m\"\u001b[39m\u001b[33mRetry: \u001b[39m\u001b[38;5;132;01m%s\u001b[39;00m\u001b[33m\"\u001b[39m, url)\n\u001b[32m--> \u001b[39m\u001b[32m942\u001b[39m     \u001b[38;5;28;01mreturn\u001b[39;00m \u001b[38;5;28;43mself\u001b[39;49m\u001b[43m.\u001b[49m\u001b[43murlopen\u001b[49m\u001b[43m(\u001b[49m\n\u001b[32m    943\u001b[39m \u001b[43m        \u001b[49m\u001b[43mmethod\u001b[49m\u001b[43m,\u001b[49m\n\u001b[32m    944\u001b[39m \u001b[43m        \u001b[49m\u001b[43murl\u001b[49m\u001b[43m,\u001b[49m\n\u001b[32m    945\u001b[39m \u001b[43m        \u001b[49m\u001b[43mbody\u001b[49m\u001b[43m,\u001b[49m\n\u001b[32m    946\u001b[39m \u001b[43m        \u001b[49m\u001b[43mheaders\u001b[49m\u001b[43m,\u001b[49m\n\u001b[32m    947\u001b[39m \u001b[43m        \u001b[49m\u001b[43mretries\u001b[49m\u001b[43m=\u001b[49m\u001b[43mretries\u001b[49m\u001b[43m,\u001b[49m\n\u001b[32m    948\u001b[39m \u001b[43m        \u001b[49m\u001b[43mredirect\u001b[49m\u001b[43m=\u001b[49m\u001b[43mredirect\u001b[49m\u001b[43m,\u001b[49m\n\u001b[32m    949\u001b[39m \u001b[43m        \u001b[49m\u001b[43massert_same_host\u001b[49m\u001b[43m=\u001b[49m\u001b[43massert_same_host\u001b[49m\u001b[43m,\u001b[49m\n\u001b[32m    950\u001b[39m \u001b[43m        \u001b[49m\u001b[43mtimeout\u001b[49m\u001b[43m=\u001b[49m\u001b[43mtimeout\u001b[49m\u001b[43m,\u001b[49m\n\u001b[32m    951\u001b[39m \u001b[43m        \u001b[49m\u001b[43mpool_timeout\u001b[49m\u001b[43m=\u001b[49m\u001b[43mpool_timeout\u001b[49m\u001b[43m,\u001b[49m\n\u001b[32m    952\u001b[39m \u001b[43m        \u001b[49m\u001b[43mrelease_conn\u001b[49m\u001b[43m=\u001b[49m\u001b[43mrelease_conn\u001b[49m\u001b[43m,\u001b[49m\n\u001b[32m    953\u001b[39m \u001b[43m        \u001b[49m\u001b[43mchunked\u001b[49m\u001b[43m=\u001b[49m\u001b[43mchunked\u001b[49m\u001b[43m,\u001b[49m\n\u001b[32m    954\u001b[39m \u001b[43m        \u001b[49m\u001b[43mbody_pos\u001b[49m\u001b[43m=\u001b[49m\u001b[43mbody_pos\u001b[49m\u001b[43m,\u001b[49m\n\u001b[32m    955\u001b[39m \u001b[43m        \u001b[49m\u001b[43mpreload_content\u001b[49m\u001b[43m=\u001b[49m\u001b[43mpreload_content\u001b[49m\u001b[43m,\u001b[49m\n\u001b[32m    956\u001b[39m \u001b[43m        \u001b[49m\u001b[43mdecode_content\u001b[49m\u001b[43m=\u001b[49m\u001b[43mdecode_content\u001b[49m\u001b[43m,\u001b[49m\n\u001b[32m    957\u001b[39m \u001b[43m        \u001b[49m\u001b[43m*\u001b[49m\u001b[43m*\u001b[49m\u001b[43mresponse_kw\u001b[49m\u001b[43m,\u001b[49m\n\u001b[32m    958\u001b[39m \u001b[43m    \u001b[49m\u001b[43m)\u001b[49m\n\u001b[32m    960\u001b[39m \u001b[38;5;28;01mreturn\u001b[39;00m response\n",
      "\u001b[36mFile \u001b[39m\u001b[32m/opt/homebrew/anaconda3/envs/mlops/lib/python3.12/site-packages/urllib3/connectionpool.py:942\u001b[39m, in \u001b[36mHTTPConnectionPool.urlopen\u001b[39m\u001b[34m(self, method, url, body, headers, retries, redirect, assert_same_host, timeout, pool_timeout, release_conn, chunked, body_pos, preload_content, decode_content, **response_kw)\u001b[39m\n\u001b[32m    940\u001b[39m     retries.sleep(response)\n\u001b[32m    941\u001b[39m     log.debug(\u001b[33m\"\u001b[39m\u001b[33mRetry: \u001b[39m\u001b[38;5;132;01m%s\u001b[39;00m\u001b[33m\"\u001b[39m, url)\n\u001b[32m--> \u001b[39m\u001b[32m942\u001b[39m     \u001b[38;5;28;01mreturn\u001b[39;00m \u001b[38;5;28;43mself\u001b[39;49m\u001b[43m.\u001b[49m\u001b[43murlopen\u001b[49m\u001b[43m(\u001b[49m\n\u001b[32m    943\u001b[39m \u001b[43m        \u001b[49m\u001b[43mmethod\u001b[49m\u001b[43m,\u001b[49m\n\u001b[32m    944\u001b[39m \u001b[43m        \u001b[49m\u001b[43murl\u001b[49m\u001b[43m,\u001b[49m\n\u001b[32m    945\u001b[39m \u001b[43m        \u001b[49m\u001b[43mbody\u001b[49m\u001b[43m,\u001b[49m\n\u001b[32m    946\u001b[39m \u001b[43m        \u001b[49m\u001b[43mheaders\u001b[49m\u001b[43m,\u001b[49m\n\u001b[32m    947\u001b[39m \u001b[43m        \u001b[49m\u001b[43mretries\u001b[49m\u001b[43m=\u001b[49m\u001b[43mretries\u001b[49m\u001b[43m,\u001b[49m\n\u001b[32m    948\u001b[39m \u001b[43m        \u001b[49m\u001b[43mredirect\u001b[49m\u001b[43m=\u001b[49m\u001b[43mredirect\u001b[49m\u001b[43m,\u001b[49m\n\u001b[32m    949\u001b[39m \u001b[43m        \u001b[49m\u001b[43massert_same_host\u001b[49m\u001b[43m=\u001b[49m\u001b[43massert_same_host\u001b[49m\u001b[43m,\u001b[49m\n\u001b[32m    950\u001b[39m \u001b[43m        \u001b[49m\u001b[43mtimeout\u001b[49m\u001b[43m=\u001b[49m\u001b[43mtimeout\u001b[49m\u001b[43m,\u001b[49m\n\u001b[32m    951\u001b[39m \u001b[43m        \u001b[49m\u001b[43mpool_timeout\u001b[49m\u001b[43m=\u001b[49m\u001b[43mpool_timeout\u001b[49m\u001b[43m,\u001b[49m\n\u001b[32m    952\u001b[39m \u001b[43m        \u001b[49m\u001b[43mrelease_conn\u001b[49m\u001b[43m=\u001b[49m\u001b[43mrelease_conn\u001b[49m\u001b[43m,\u001b[49m\n\u001b[32m    953\u001b[39m \u001b[43m        \u001b[49m\u001b[43mchunked\u001b[49m\u001b[43m=\u001b[49m\u001b[43mchunked\u001b[49m\u001b[43m,\u001b[49m\n\u001b[32m    954\u001b[39m \u001b[43m        \u001b[49m\u001b[43mbody_pos\u001b[49m\u001b[43m=\u001b[49m\u001b[43mbody_pos\u001b[49m\u001b[43m,\u001b[49m\n\u001b[32m    955\u001b[39m \u001b[43m        \u001b[49m\u001b[43mpreload_content\u001b[49m\u001b[43m=\u001b[49m\u001b[43mpreload_content\u001b[49m\u001b[43m,\u001b[49m\n\u001b[32m    956\u001b[39m \u001b[43m        \u001b[49m\u001b[43mdecode_content\u001b[49m\u001b[43m=\u001b[49m\u001b[43mdecode_content\u001b[49m\u001b[43m,\u001b[49m\n\u001b[32m    957\u001b[39m \u001b[43m        \u001b[49m\u001b[43m*\u001b[49m\u001b[43m*\u001b[49m\u001b[43mresponse_kw\u001b[49m\u001b[43m,\u001b[49m\n\u001b[32m    958\u001b[39m \u001b[43m    \u001b[49m\u001b[43m)\u001b[49m\n\u001b[32m    960\u001b[39m \u001b[38;5;28;01mreturn\u001b[39;00m response\n",
      "    \u001b[31m[... skipping similar frames: HTTPConnectionPool.urlopen at line 942 (1 times)]\u001b[39m\n",
      "\u001b[36mFile \u001b[39m\u001b[32m/opt/homebrew/anaconda3/envs/mlops/lib/python3.12/site-packages/urllib3/connectionpool.py:942\u001b[39m, in \u001b[36mHTTPConnectionPool.urlopen\u001b[39m\u001b[34m(self, method, url, body, headers, retries, redirect, assert_same_host, timeout, pool_timeout, release_conn, chunked, body_pos, preload_content, decode_content, **response_kw)\u001b[39m\n\u001b[32m    940\u001b[39m     retries.sleep(response)\n\u001b[32m    941\u001b[39m     log.debug(\u001b[33m\"\u001b[39m\u001b[33mRetry: \u001b[39m\u001b[38;5;132;01m%s\u001b[39;00m\u001b[33m\"\u001b[39m, url)\n\u001b[32m--> \u001b[39m\u001b[32m942\u001b[39m     \u001b[38;5;28;01mreturn\u001b[39;00m \u001b[38;5;28;43mself\u001b[39;49m\u001b[43m.\u001b[49m\u001b[43murlopen\u001b[49m\u001b[43m(\u001b[49m\n\u001b[32m    943\u001b[39m \u001b[43m        \u001b[49m\u001b[43mmethod\u001b[49m\u001b[43m,\u001b[49m\n\u001b[32m    944\u001b[39m \u001b[43m        \u001b[49m\u001b[43murl\u001b[49m\u001b[43m,\u001b[49m\n\u001b[32m    945\u001b[39m \u001b[43m        \u001b[49m\u001b[43mbody\u001b[49m\u001b[43m,\u001b[49m\n\u001b[32m    946\u001b[39m \u001b[43m        \u001b[49m\u001b[43mheaders\u001b[49m\u001b[43m,\u001b[49m\n\u001b[32m    947\u001b[39m \u001b[43m        \u001b[49m\u001b[43mretries\u001b[49m\u001b[43m=\u001b[49m\u001b[43mretries\u001b[49m\u001b[43m,\u001b[49m\n\u001b[32m    948\u001b[39m \u001b[43m        \u001b[49m\u001b[43mredirect\u001b[49m\u001b[43m=\u001b[49m\u001b[43mredirect\u001b[49m\u001b[43m,\u001b[49m\n\u001b[32m    949\u001b[39m \u001b[43m        \u001b[49m\u001b[43massert_same_host\u001b[49m\u001b[43m=\u001b[49m\u001b[43massert_same_host\u001b[49m\u001b[43m,\u001b[49m\n\u001b[32m    950\u001b[39m \u001b[43m        \u001b[49m\u001b[43mtimeout\u001b[49m\u001b[43m=\u001b[49m\u001b[43mtimeout\u001b[49m\u001b[43m,\u001b[49m\n\u001b[32m    951\u001b[39m \u001b[43m        \u001b[49m\u001b[43mpool_timeout\u001b[49m\u001b[43m=\u001b[49m\u001b[43mpool_timeout\u001b[49m\u001b[43m,\u001b[49m\n\u001b[32m    952\u001b[39m \u001b[43m        \u001b[49m\u001b[43mrelease_conn\u001b[49m\u001b[43m=\u001b[49m\u001b[43mrelease_conn\u001b[49m\u001b[43m,\u001b[49m\n\u001b[32m    953\u001b[39m \u001b[43m        \u001b[49m\u001b[43mchunked\u001b[49m\u001b[43m=\u001b[49m\u001b[43mchunked\u001b[49m\u001b[43m,\u001b[49m\n\u001b[32m    954\u001b[39m \u001b[43m        \u001b[49m\u001b[43mbody_pos\u001b[49m\u001b[43m=\u001b[49m\u001b[43mbody_pos\u001b[49m\u001b[43m,\u001b[49m\n\u001b[32m    955\u001b[39m \u001b[43m        \u001b[49m\u001b[43mpreload_content\u001b[49m\u001b[43m=\u001b[49m\u001b[43mpreload_content\u001b[49m\u001b[43m,\u001b[49m\n\u001b[32m    956\u001b[39m \u001b[43m        \u001b[49m\u001b[43mdecode_content\u001b[49m\u001b[43m=\u001b[49m\u001b[43mdecode_content\u001b[49m\u001b[43m,\u001b[49m\n\u001b[32m    957\u001b[39m \u001b[43m        \u001b[49m\u001b[43m*\u001b[49m\u001b[43m*\u001b[49m\u001b[43mresponse_kw\u001b[49m\u001b[43m,\u001b[49m\n\u001b[32m    958\u001b[39m \u001b[43m    \u001b[49m\u001b[43m)\u001b[49m\n\u001b[32m    960\u001b[39m \u001b[38;5;28;01mreturn\u001b[39;00m response\n",
      "\u001b[36mFile \u001b[39m\u001b[32m/opt/homebrew/anaconda3/envs/mlops/lib/python3.12/site-packages/urllib3/connectionpool.py:940\u001b[39m, in \u001b[36mHTTPConnectionPool.urlopen\u001b[39m\u001b[34m(self, method, url, body, headers, retries, redirect, assert_same_host, timeout, pool_timeout, release_conn, chunked, body_pos, preload_content, decode_content, **response_kw)\u001b[39m\n\u001b[32m    937\u001b[39m     \u001b[38;5;28;01mreturn\u001b[39;00m response\n\u001b[32m    939\u001b[39m response.drain_conn()\n\u001b[32m--> \u001b[39m\u001b[32m940\u001b[39m \u001b[43mretries\u001b[49m\u001b[43m.\u001b[49m\u001b[43msleep\u001b[49m\u001b[43m(\u001b[49m\u001b[43mresponse\u001b[49m\u001b[43m)\u001b[49m\n\u001b[32m    941\u001b[39m log.debug(\u001b[33m\"\u001b[39m\u001b[33mRetry: \u001b[39m\u001b[38;5;132;01m%s\u001b[39;00m\u001b[33m\"\u001b[39m, url)\n\u001b[32m    942\u001b[39m \u001b[38;5;28;01mreturn\u001b[39;00m \u001b[38;5;28mself\u001b[39m.urlopen(\n\u001b[32m    943\u001b[39m     method,\n\u001b[32m    944\u001b[39m     url,\n\u001b[32m   (...)\u001b[39m\u001b[32m    957\u001b[39m     **response_kw,\n\u001b[32m    958\u001b[39m )\n",
      "\u001b[36mFile \u001b[39m\u001b[32m/opt/homebrew/anaconda3/envs/mlops/lib/python3.12/site-packages/urllib3/util/retry.py:363\u001b[39m, in \u001b[36mRetry.sleep\u001b[39m\u001b[34m(self, response)\u001b[39m\n\u001b[32m    360\u001b[39m     \u001b[38;5;28;01mif\u001b[39;00m slept:\n\u001b[32m    361\u001b[39m         \u001b[38;5;28;01mreturn\u001b[39;00m\n\u001b[32m--> \u001b[39m\u001b[32m363\u001b[39m \u001b[38;5;28;43mself\u001b[39;49m\u001b[43m.\u001b[49m\u001b[43m_sleep_backoff\u001b[49m\u001b[43m(\u001b[49m\u001b[43m)\u001b[49m\n",
      "\u001b[36mFile \u001b[39m\u001b[32m/opt/homebrew/anaconda3/envs/mlops/lib/python3.12/site-packages/urllib3/util/retry.py:347\u001b[39m, in \u001b[36mRetry._sleep_backoff\u001b[39m\u001b[34m(self)\u001b[39m\n\u001b[32m    345\u001b[39m \u001b[38;5;28;01mif\u001b[39;00m backoff <= \u001b[32m0\u001b[39m:\n\u001b[32m    346\u001b[39m     \u001b[38;5;28;01mreturn\u001b[39;00m\n\u001b[32m--> \u001b[39m\u001b[32m347\u001b[39m \u001b[43mtime\u001b[49m\u001b[43m.\u001b[49m\u001b[43msleep\u001b[49m\u001b[43m(\u001b[49m\u001b[43mbackoff\u001b[49m\u001b[43m)\u001b[49m\n",
      "\u001b[31mKeyboardInterrupt\u001b[39m: "
     ]
    }
   ],
   "source": [
    "# Get the top 3 runs from the DataFrame\n",
    "top_runs = runs.iloc[:3]\n",
    "\n",
    "for i, (_, run_row) in enumerate(top_runs.iterrows(), 1):\n",
    "    run_id = run_row['run_id']\n",
    "    \n",
    "    print(f\"\\nBest Model #{i} (Run ID: {run_id}):\")\n",
    "    # Fix the formatting error by checking if the value is a string or number\n",
    "    train_accuracy = run_row.get('metrics.train_accuracy', 'N/A')\n",
    "    if isinstance(train_accuracy, (int, float)):\n",
    "        print(f\"Training Accuracy: {train_accuracy:.4f}\")\n",
    "    else:\n",
    "        print(f\"Training Accuracy: {train_accuracy}\")\n",
    "    \n",
    "    # Fix the test accuracy display similarly\n",
    "    test_accuracy = run_row.get('metrics.test_accuracy', 'N/A')\n",
    "    if 'metrics.test_accuracy' in run_row:\n",
    "        if isinstance(test_accuracy, (int, float)):\n",
    "            print(f\"Test Accuracy: {test_accuracy:.4f}\")\n",
    "        else:\n",
    "            print(f\"Test Accuracy: {test_accuracy}\")\n",
    "    else:\n",
    "        print(\"Test Accuracy: Not yet evaluated\")\n",
    "    \n",
    "    print(\"\\nHyperparameters:\")\n",
    "    # Extract parameters from the DataFrame row\n",
    "    param_columns = [col for col in run_row.index if col.startswith('params.')]\n",
    "    for param_col in param_columns:\n",
    "        param_name = param_col.replace('params.', '')\n",
    "        param_value = run_row[param_col]\n",
    "        if param_value is not None:  # Only print non-None parameters\n",
    "            print(f\"  {param_name}: {param_value}\")\n",
    "    \n",
    "    # Log dataset information\n",
    "    try:\n",
    "        with mlflow.start_run(run_id=run_id, nested=True):\n",
    "            mlflow.log_dict({\n",
    "                \"dataset_info\": {\n",
    "                    \"training_set_shape\": X_train.shape,\n",
    "                    \"test_set_shape\": X_test.shape,\n",
    "                    \"training_samples\": len(X_train),\n",
    "                    \"test_samples\": len(X_test),\n",
    "                    \"features\": list(X.columns),\n",
    "                    \"target_classes\": sorted(y.unique().tolist())\n",
    "                }\n",
    "            }, \"dataset_info.json\")\n",
    "    except Exception as e:\n",
    "        print(f\"Could not log dataset info for run {run_id}: {str(e)}\")\n"
   ]
  }
 ],
 "metadata": {
  "kernelspec": {
   "display_name": "mlops",
   "language": "python",
   "name": "python3"
  },
  "language_info": {
   "codemirror_mode": {
    "name": "ipython",
    "version": 3
   },
   "file_extension": ".py",
   "mimetype": "text/x-python",
   "name": "python",
   "nbconvert_exporter": "python",
   "pygments_lexer": "ipython3",
   "version": "3.12.2"
  }
 },
 "nbformat": 4,
 "nbformat_minor": 2
}
